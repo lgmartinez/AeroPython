{
 "metadata": {
  "name": "",
  "signature": "sha256:92fea381ac552fa82d35614153e59623614084dd29372aebb900152837ab0421"
 },
 "nbformat": 3,
 "nbformat_minor": 0,
 "worksheets": []
}