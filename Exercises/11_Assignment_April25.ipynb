{
 "metadata": {
  "name": "",
  "signature": "sha256:7cec4e65b4f23a271b1a12c6b7b5820bc443cb3819dc65f526987192462b06ee"
 },
 "nbformat": 3,
 "nbformat_minor": 0,
 "worksheets": [
  {
   "cells": [
    {
     "cell_type": "heading",
     "level": 1,
     "metadata": {},
     "source": [
      "Import Libraries and Files"
     ]
    },
    {
     "cell_type": "code",
     "collapsed": false,
     "input": [
      "#import csv\n",
      "import numpy\n",
      "from matplotlib import pyplot\n",
      "from scipy import integrate\n",
      "import math"
     ],
     "language": "python",
     "metadata": {},
     "outputs": [],
     "prompt_number": 1
    },
    {
     "cell_type": "code",
     "collapsed": false,
     "input": [
      "# loading the geometry from a data file\n",
      "x_airfoil, y_airfoil = numpy.loadtxt('./resources/MainFoil_N=200.csv', dtype=float, delimiter=',', unpack=True)\n",
      "x_flap, y_flap = numpy.loadtxt('./resources/FlapFoil_N=200.csv',dtype=float, delimiter=',', unpack=True)"
     ],
     "language": "python",
     "metadata": {},
     "outputs": [],
     "prompt_number": 2
    },
    {
     "cell_type": "code",
     "collapsed": false,
     "input": [
      "# Theoretical Values \n",
      "x_airfoil_thrt, cp_airfoil_thrt = numpy.loadtxt('./resources/Cp_Main_theoretical.csv', delimiter=',', unpack=True)\n",
      "x_flap_thrt, cp_flap_thrt = numpy.loadtxt('./resources/Cp_Flap_theoretical.csv', delimiter=',', unpack=True)"
     ],
     "language": "python",
     "metadata": {},
     "outputs": [],
     "prompt_number": 3
    },
    {
     "cell_type": "heading",
     "level": 1,
     "metadata": {},
     "source": [
      "Plot Airfoils"
     ]
    },
    {
     "cell_type": "code",
     "collapsed": false,
     "input": [
      "%matplotlib inline\n",
      "\n",
      "val_x, val_y = 0.1, 0.2\n",
      "x_min, x_max = x_airfoil.min(), x_flap.max()\n",
      "y_min, y_max = y_flap.min(), y_airfoil.max()\n",
      "x_start, x_end = x_min-val_x*(x_max-x_min), x_max+val_x*(x_max-x_min)\n",
      "y_start, y_end = y_min-val_y*(y_max-y_min), y_max+val_y*(y_max-y_min)\n",
      "\n",
      "size = 10\n",
      "\n",
      "pyplot.figure(figsize=(size, (y_end-y_start)/(x_end-x_start)*size))\n",
      "pyplot.grid(True)\n",
      "\n",
      "pyplot.xlabel('x', fontsize=16)\n",
      "pyplot.ylabel('y', fontsize=16)\n",
      "\n",
      "pyplot.xlim(x_start, x_end)\n",
      "pyplot.ylim(y_start, y_end)\n",
      "\n",
      "pyplot.plot(x_airfoil, y_airfoil, color='k', linestyle='-', linewidth=2)\n",
      "pyplot.plot(x_flap, y_flap, color='k', linestyle='-', linewidth=2);"
     ],
     "language": "python",
     "metadata": {},
     "outputs": [
      {
       "metadata": {},
       "output_type": "display_data",
       "png": "[encoded data removed]",
       "text": [
        "<matplotlib.figure.Figure at 0x107946e50>"
       ]
      }
     ],
     "prompt_number": 4
    },
    {
     "cell_type": "heading",
     "level": 1,
     "metadata": {},
     "source": [
      "Discretize Airfoils - The Panel Method"
     ]
    },
    {
     "cell_type": "code",
     "collapsed": false,
     "input": [
      "class Panel:\n",
      "    \"\"\"Contains information related to one panel.\"\"\"\n",
      "    def __init__(self, xa, ya, xb, yb):\n",
      "        \"\"\"Creates a panel.\n",
      "        \n",
      "        Arguments\n",
      "        ---------\n",
      "        xa, ya -- Cartesian coordinates of the first end-point.\n",
      "        xb, yb -- Cartesian coordinates of the second end-point.\n",
      "        \"\"\"\n",
      "        self.xa, self.ya = xa, ya\n",
      "        self.xb, self.yb = xb, yb\n",
      "        \n",
      "        self.xc, self.yc = (xa+xb)/2, (ya+yb)/2       # control-point (center-point)\n",
      "        self.length = math.sqrt((xb-xa)**2+(yb-ya)**2)     # length of the panel\n",
      "        \n",
      "        # orientation of the panel (angle between x-axis and panel's normal)\n",
      "        if xb-xa <= 0.:\n",
      "            self.beta = math.acos((yb-ya)/self.length)\n",
      "        elif xb-xa > 0.:\n",
      "            self.beta = math.pi + math.acos(-(yb-ya)/self.length)\n",
      "        \n",
      "        # location of the panel\n",
      "        if self.beta <= math.pi:\n",
      "            self.loc = 'extrados'\n",
      "        else:\n",
      "            self.loc = 'intrados'\n",
      "        \n",
      "        self.sigma = 0.                             # source strength\n",
      "        self.vt = 0.                                # tangential velocity\n",
      "        self.cp = 0.              "
     ],
     "language": "python",
     "metadata": {},
     "outputs": [],
     "prompt_number": 5
    },
    {
     "cell_type": "code",
     "collapsed": false,
     "input": [
      "def define_panels(x, y, N):\n",
      "\n",
      "    x, y = numpy.append(x, x[0]), numpy.append(y, y[0])   \n",
      "    \n",
      "    panels = numpy.empty(N, dtype=object)\n",
      "    for i in range(N):\n",
      "        panels[i] = Panel(x[i], y[i], x[i+1], y[i+1])\n",
      "    \n",
      "    \n",
      "    return panels"
     ],
     "language": "python",
     "metadata": {},
     "outputs": [],
     "prompt_number": 6
    },
    {
     "cell_type": "heading",
     "level": 4,
     "metadata": {},
     "source": [
      "Concatenate Panels for Computation"
     ]
    },
    {
     "cell_type": "code",
     "collapsed": false,
     "input": [
      "#Define Number of Panels\n",
      "\n",
      "N = 200\n",
      "NN = N/2"
     ],
     "language": "python",
     "metadata": {},
     "outputs": [],
     "prompt_number": 7
    },
    {
     "cell_type": "code",
     "collapsed": false,
     "input": [
      "panels_airfoil = define_panels(x_airfoil,y_airfoil, N)# discretizes of the geometry into panels\n",
      "panels_flap = define_panels(x_flap,y_flap, N)"
     ],
     "language": "python",
     "metadata": {},
     "outputs": [],
     "prompt_number": 8
    },
    {
     "cell_type": "code",
     "collapsed": false,
     "input": [
      "panels_all = numpy.concatenate((panels_airfoil, panels_flap))"
     ],
     "language": "python",
     "metadata": {},
     "outputs": [],
     "prompt_number": 9
    },
    {
     "cell_type": "code",
     "collapsed": false,
     "input": [
      "numpy.shape(panels_all)"
     ],
     "language": "python",
     "metadata": {},
     "outputs": [
      {
       "metadata": {},
       "output_type": "pyout",
       "prompt_number": 10,
       "text": [
        "(400,)"
       ]
      }
     ],
     "prompt_number": 10
    },
    {
     "cell_type": "code",
     "collapsed": false,
     "input": [
      "# plots the geometry and the panels\n",
      "val_x, val_y = 0.1, 0.2\n",
      "x_min, x_max = min(panel.xa for panel in panels_airfoil), max(panel.xa for panel in panels_flap)\n",
      "y_min, y_max = min(panel.ya for panel in panels_flap), max(panel.ya for panel in panels_airfoil)\n",
      "x_start, x_end = x_min-val_x*(x_max-x_min), x_max+val_x*(x_max-x_min)\n",
      "y_start, y_end = y_min-val_y*(y_max-y_min), y_max+val_y*(y_max-y_min)\n",
      "\n",
      "size = 10\n",
      "pyplot.figure(figsize=(size, (y_end-y_start)/(x_end-x_start)*size))\n",
      "pyplot.grid(True)\n",
      "pyplot.xlabel('x', fontsize=16)\n",
      "pyplot.ylabel('y', fontsize=16)\n",
      "pyplot.xlim(x_start, x_end)\n",
      "pyplot.ylim(y_start, y_end)\n",
      "pyplot.plot(x_airfoil, y_airfoil, x_flap, y_flap, color='k', linestyle='-', linewidth=2)\n",
      "pyplot.plot(numpy.append([panel.xa for panel in panels_airfoil], panels_airfoil[0].xa), \n",
      "         numpy.append([panel.ya for panel in panels_airfoil], panels_airfoil[0].ya), \n",
      "         numpy.append([panel.xa for panel in panels_flap], panels_flap[0].xa), \n",
      "         numpy.append([panel.ya for panel in panels_flap], panels_flap[0].ya),\n",
      "         linestyle='-', linewidth=1, marker='o', markersize=6, color='b');\n"
     ],
     "language": "python",
     "metadata": {},
     "outputs": [
      {
       "metadata": {},
       "output_type": "display_data",
       "png": "[encoded data removed]",
       "text": [
        "<matplotlib.figure.Figure at 0x107b5ad10>"
       ]
      }
     ],
     "prompt_number": 11
    },
    {
     "cell_type": "heading",
     "level": 1,
     "metadata": {},
     "source": [
      "The Linear System of Equations"
     ]
    },
    {
     "cell_type": "heading",
     "level": 3,
     "metadata": {},
     "source": [
      "Notes on building the system"
     ]
    },
    {
     "cell_type": "raw",
     "metadata": {},
     "source": [
      "Based on the equations we have derived (see notes), we can minimize computation by noting that:\n",
      "\n",
      "1) B[i,j]_normal = - A[i,j]_tangential\n",
      "2) B[i,j]_tangential = A[i,j]_normal\n",
      "\n",
      "where B represents the coefficient matrix for vortices gamma A and gamma B, and A represents the coefficient matrix for the sources.\n",
      "\n",
      "We can build the system by computing:\n",
      "\n",
      "- freestream conditions\n",
      "- B[i,j]_normal\n",
      "- A[i,j]_normal\n",
      "\n",
      "Additionally, the kutta conditions can be computed from A[i,j]_tangential:\n",
      "\n",
      "- for U_0th_panel_tang + U_(NN-1)th_panel_tang:  \n",
      " * kutta_condition_1 = A[allrows,0]_tangential + A[allrows, NN-1]\n",
      " * kutta_condition_2 = A[allrows,NN]_tangential + A[allrows, N-1],\n",
      "\n",
      "where N = len(panels_all) and NN=N/2"
     ]
    },
    {
     "cell_type": "heading",
     "level": 3,
     "metadata": {},
     "source": [
      "Freestream Conditions"
     ]
    },
    {
     "cell_type": "code",
     "collapsed": false,
     "input": [
      "# Freestream\n",
      "\n",
      "class Freestream:\n",
      "    \"\"\"Freestream conditions.\"\"\"\n",
      "    def __init__(self, u_inf=1.0, alpha=0.0):\n",
      "        \"\"\"Sets the freestream conditions.\n",
      "        \n",
      "        Arguments\n",
      "        ---------\n",
      "        u_inf -- Farfield speed (default 1.0).\n",
      "        alpha -- Angle of attack in degrees (default 0.0).\n",
      "        \"\"\"\n",
      "        self.u_inf = u_inf\n",
      "        self.alpha = alpha*math.pi/180          # degrees --> radians"
     ],
     "language": "python",
     "metadata": {},
     "outputs": [],
     "prompt_number": 12
    },
    {
     "cell_type": "code",
     "collapsed": false,
     "input": [
      "# defines and creates the object freestream\n",
      "u_inf = 1.0                                # freestream speed\n",
      "alpha = 0.0                                # angle of attack (in degrees)\n",
      "freestream = Freestream(u_inf, alpha)      # instantiation of the object freestream"
     ],
     "language": "python",
     "metadata": {},
     "outputs": [],
     "prompt_number": 13
    },
    {
     "cell_type": "code",
     "collapsed": false,
     "input": [
      "def build_rhs(panels, freestream):\n",
      "    \"\"\"Builds the RHS of the linear system.\n",
      "    \n",
      "    Arguments\n",
      "    ---------\n",
      "    panels -- array of panels.\n",
      "    freestream -- farfield conditions.\n",
      "    \n",
      "    Returns\n",
      "    -------\n",
      "    b -- 1D array ((N+1)x1, N is the number of panels).\n",
      "    \"\"\"\n",
      "    N = len(panels)\n",
      "    NN = len(panels)/2\n",
      "    b = numpy.empty(N+2,dtype=float)\n",
      "    \n",
      "    for i, panel in enumerate(panels):\n",
      "        b[i] = - freestream.u_inf * math.cos(freestream.alpha - panel.beta)\n",
      "    \n",
      "    b[N] = -freestream.u_inf*( math.sin(freestream.alpha-panels[0].beta)      #1st KC\n",
      "                              +math.sin(freestream.alpha-panels[NN-1].beta) )\n",
      "   \n",
      "    b[N+1] = -freestream.u_inf*( math.sin(freestream.alpha-panels[NN].beta)      #2nd KC\n",
      "                              +math.sin(freestream.alpha-panels[N-1].beta) )\n",
      "    \n",
      "    \n",
      "    return b\n"
     ],
     "language": "python",
     "metadata": {},
     "outputs": [],
     "prompt_number": 14
    },
    {
     "cell_type": "code",
     "collapsed": false,
     "input": [
      "b = build_rhs(panels_all, freestream)"
     ],
     "language": "python",
     "metadata": {},
     "outputs": [],
     "prompt_number": 15
    },
    {
     "cell_type": "code",
     "collapsed": false,
     "input": [
      "numpy.shape(b)"
     ],
     "language": "python",
     "metadata": {},
     "outputs": [
      {
       "metadata": {},
       "output_type": "pyout",
       "prompt_number": 16,
       "text": [
        "(402,)"
       ]
      }
     ],
     "prompt_number": 16
    },
    {
     "cell_type": "heading",
     "level": 3,
     "metadata": {},
     "source": [
      "Integral Function"
     ]
    },
    {
     "cell_type": "code",
     "collapsed": false,
     "input": [
      "def integral(x, y, panel, dxdz, dydz):\n",
      "    \"\"\"Evaluates the contribution of a panel at one point.\n",
      "    \n",
      "    Arguments\n",
      "    ---------\n",
      "    x, y -- Cartesian coordinates of the point.\n",
      "    panel -- panel which contribution is evaluated.\n",
      "    dxdz -- derivative of x in the z-direction.\n",
      "    dydz -- derivative of y in the z-direction.\n",
      "    \n",
      "    Returns\n",
      "    -------\n",
      "    Integral over the panel of the influence at one point.\n",
      "    \"\"\"\n",
      "    def func(s):\n",
      "        return ( ((x - (panel.xa - math.sin(panel.beta)*s))*dxdz \n",
      "                  + (y - (panel.ya + math.cos(panel.beta)*s))*dydz)\n",
      "                / ((x - (panel.xa - math.sin(panel.beta)*s))**2 \n",
      "                   + (y - (panel.ya + math.cos(panel.beta)*s))**2) )\n",
      "    return integrate.quad(lambda s:func(s), 0., panel.length)[0]"
     ],
     "language": "python",
     "metadata": {},
     "outputs": [],
     "prompt_number": 17
    },
    {
     "cell_type": "heading",
     "level": 3,
     "metadata": {},
     "source": [
      "Source Matrix (A Matrix) - Normal"
     ]
    },
    {
     "cell_type": "code",
     "collapsed": false,
     "input": [
      "def source_matrix(panels):\n",
      "    \"\"\"Builds the source matrix.\n",
      "    \n",
      "    Arguments\n",
      "    ---------\n",
      "    panels -- array of panels.\n",
      "    \n",
      "    Returns\n",
      "    -------\n",
      "    A -- NxN matrix (N is the number of panels).\n",
      "    \"\"\"\n",
      "    A = numpy.empty((panels.size, panels.size), dtype=float)\n",
      "    numpy.fill_diagonal(A, 0.5)\n",
      "    \n",
      "    for i, p_i in enumerate(panels):\n",
      "        for j, p_j in enumerate(panels):\n",
      "            if i != j:\n",
      "                A[i,j] = 0.5/math.pi*integral(p_i.xc, p_i.yc, p_j, math.cos(p_i.beta), math.sin(p_i.beta))\n",
      "    \n",
      "    return A"
     ],
     "language": "python",
     "metadata": {},
     "outputs": [],
     "prompt_number": 18
    },
    {
     "cell_type": "code",
     "collapsed": false,
     "input": [
      "source_matrix_n = source_matrix(panels_all)"
     ],
     "language": "python",
     "metadata": {},
     "outputs": [],
     "prompt_number": 19
    },
    {
     "cell_type": "code",
     "collapsed": false,
     "input": [
      "numpy.shape(source_matrix_n)"
     ],
     "language": "python",
     "metadata": {},
     "outputs": [
      {
       "metadata": {},
       "output_type": "pyout",
       "prompt_number": 20,
       "text": [
        "(400, 400)"
       ]
      }
     ],
     "prompt_number": 20
    },
    {
     "cell_type": "heading",
     "level": 3,
     "metadata": {},
     "source": [
      "Vortex Matrix (B Matrix) - Normal"
     ]
    },
    {
     "cell_type": "code",
     "collapsed": false,
     "input": [
      "def vortex_matrix_norm(panels):\n",
      "    \"\"\"This function calculates the coefficients for the gamma values without summing the terms\n",
      "    \"\"\"\n",
      "    B = numpy.empty((panels.size,panels.size), dtype=float)\n",
      "    numpy.fill_diagonal(B, 0.)\n",
      "    \n",
      "    for i, p_i in enumerate(panels):\n",
      "        for j, p_j in enumerate(panels):\n",
      "            if i != j:\n",
      "                B[i,j] = -0.5/math.pi*integral(p_i.xc, p_i.yc, p_j, math.sin(p_i.beta), -math.cos(p_i.beta))\n",
      "\n",
      "    return B"
     ],
     "language": "python",
     "metadata": {},
     "outputs": [],
     "prompt_number": 21
    },
    {
     "cell_type": "code",
     "collapsed": false,
     "input": [
      "vortex_matrix_n = vortex_matrix_norm(panels_all) "
     ],
     "language": "python",
     "metadata": {},
     "outputs": [],
     "prompt_number": 22
    },
    {
     "cell_type": "code",
     "collapsed": false,
     "input": [
      "numpy.shape(vortex_matrix_n)"
     ],
     "language": "python",
     "metadata": {},
     "outputs": [
      {
       "metadata": {},
       "output_type": "pyout",
       "prompt_number": 23,
       "text": [
        "(400, 400)"
       ]
      }
     ],
     "prompt_number": 23
    },
    {
     "cell_type": "heading",
     "level": 3,
     "metadata": {},
     "source": [
      "Vortex Arrays - Normal"
     ]
    },
    {
     "cell_type": "heading",
     "level": 4,
     "metadata": {},
     "source": [
      "Note! In order to form the two column matrices for the summed vortex coefficients, we need to perform summation by row of vortex_matrix_n so that we have a (len(panels,0) matrix"
     ]
    },
    {
     "cell_type": "code",
     "collapsed": false,
     "input": [
      "len(panels_all)\n"
     ],
     "language": "python",
     "metadata": {},
     "outputs": [
      {
       "metadata": {},
       "output_type": "pyout",
       "prompt_number": 24,
       "text": [
        "400"
       ]
      }
     ],
     "prompt_number": 24
    },
    {
     "cell_type": "code",
     "collapsed": false,
     "input": [
      "#print(range(200,400))"
     ],
     "language": "python",
     "metadata": {},
     "outputs": [],
     "prompt_number": 25
    },
    {
     "cell_type": "code",
     "collapsed": false,
     "input": [
      "def vortex_arrays_n(panels, vortex_matrix_normal):\n",
      "    \n",
      "    N = len(panels)\n",
      "    \n",
      "    B_gA_n = numpy.zeros(panels.size, dtype = float)\n",
      "    B_gB_n = numpy.zeros(panels.size, dtype = float)\n",
      "    \n",
      "    for i, p_i in enumerate(panels):\n",
      "        \n",
      "        B_gA_n[i] = numpy.sum(vortex_matrix_normal[i,0:N/2])\n",
      "        B_gB_n[i] = numpy.sum(vortex_matrix_normal[i,N/2:N])\n",
      "        \n",
      "    return B_gA_n, B_gB_n"
     ],
     "language": "python",
     "metadata": {},
     "outputs": [],
     "prompt_number": 26
    },
    {
     "cell_type": "code",
     "collapsed": false,
     "input": [
      "B_gA_n, B_gB_n = vortex_arrays_n(panels_all, vortex_matrix_n)"
     ],
     "language": "python",
     "metadata": {},
     "outputs": [],
     "prompt_number": 27
    },
    {
     "cell_type": "code",
     "collapsed": false,
     "input": [
      "numpy.shape(B_gA_n), numpy.shape(B_gB_n)"
     ],
     "language": "python",
     "metadata": {},
     "outputs": [
      {
       "metadata": {},
       "output_type": "pyout",
       "prompt_number": 28,
       "text": [
        "((400,), (400,))"
       ]
      }
     ],
     "prompt_number": 28
    },
    {
     "cell_type": "heading",
     "level": 3,
     "metadata": {},
     "source": [
      "Concatenation of Source Matrix and Vortex Arrays - Normal"
     ]
    },
    {
     "cell_type": "code",
     "collapsed": false,
     "input": [
      "#Use this in the building of the matrix for linalg.solve\n",
      "\n",
      "Nd = 2*N\n",
      "AB_conc_n = numpy.empty((panels_all.size, panels_all.size+2), dtype=float)\n",
      "\n",
      "AB_conc_n[0:Nd,0:Nd] = source_matrix_n[:,:]\n",
      "AB_conc_n[0:Nd,-2] = B_gA_n[:]\n",
      "AB_conc_n[0:Nd,-1] = B_gB_n[:]"
     ],
     "language": "python",
     "metadata": {},
     "outputs": [],
     "prompt_number": 29
    },
    {
     "cell_type": "code",
     "collapsed": false,
     "input": [
      "numpy.shape(AB_conc_n)"
     ],
     "language": "python",
     "metadata": {},
     "outputs": [
      {
       "metadata": {},
       "output_type": "pyout",
       "prompt_number": 30,
       "text": [
        "(400, 402)"
       ]
      }
     ],
     "prompt_number": 30
    },
    {
     "cell_type": "heading",
     "level": 3,
     "metadata": {},
     "source": [
      "Vortex Arrays - Tangential"
     ]
    },
    {
     "cell_type": "code",
     "collapsed": false,
     "input": [
      "def vortex_arrays_t(panels, source_matrix_normal):\n",
      "    \"\"\"Builds the vortex array for normal matrix.\n",
      "    \n",
      "    Arguments\n",
      "    ---------\n",
      "    panels: array of panels.\n",
      "    B_n: NxN matrix (N is the number of panels). Vortex normal matrix\n",
      "    Returns\n",
      "    -------\n",
      "    a -- 1D array (Nx1, N is the number of panels).\n",
      "    \"\"\"\n",
      "    N = len(panels)\n",
      "    B_gA_t = numpy.zeros(panels.size, dtype=float)\n",
      "    B_gB_t = numpy.zeros(panels.size, dtype=float)\n",
      "    for i, p_i in enumerate(panels):\n",
      "        \n",
      "            B_gA_t[i] = numpy.sum(source_matrix_normal[i,0:N/2]) \n",
      "            B_gB_t[i] = numpy.sum(source_matrix_normal[i,N/2:N])\n",
      "    \n",
      "    return B_gA_t, B_gB_t"
     ],
     "language": "python",
     "metadata": {},
     "outputs": [],
     "prompt_number": 31
    },
    {
     "cell_type": "code",
     "collapsed": false,
     "input": [
      "B_gA_t, B_gB_t = vortex_arrays_t(panels_all, source_matrix_n)"
     ],
     "language": "python",
     "metadata": {},
     "outputs": [],
     "prompt_number": 32
    },
    {
     "cell_type": "code",
     "collapsed": false,
     "input": [
      "numpy.shape(B_gA_t), numpy.shape(B_gB_t)"
     ],
     "language": "python",
     "metadata": {},
     "outputs": [
      {
       "metadata": {},
       "output_type": "pyout",
       "prompt_number": 33,
       "text": [
        "((400,), (400,))"
       ]
      }
     ],
     "prompt_number": 33
    },
    {
     "cell_type": "heading",
     "level": 3,
     "metadata": {},
     "source": [
      "Source Matrix - Tangential"
     ]
    },
    {
     "cell_type": "code",
     "collapsed": false,
     "input": [
      "source_matrix_t = numpy.zeros((panels_all.size, panels_all.size), dtype=float)\n",
      "source_matrix_t[:,:] = vortex_matrix_n[:,:]"
     ],
     "language": "python",
     "metadata": {},
     "outputs": [],
     "prompt_number": 34
    },
    {
     "cell_type": "code",
     "collapsed": false,
     "input": [
      "numpy.shape(source_matrix_t)"
     ],
     "language": "python",
     "metadata": {},
     "outputs": [
      {
       "metadata": {},
       "output_type": "pyout",
       "prompt_number": 35,
       "text": [
        "(400, 400)"
       ]
      }
     ],
     "prompt_number": 35
    },
    {
     "cell_type": "heading",
     "level": 3,
     "metadata": {},
     "source": [
      "Source Matrix Concatenated with Vortex Arrays - Tangential"
     ]
    },
    {
     "cell_type": "code",
     "collapsed": false,
     "input": [
      "len(panels_all)"
     ],
     "language": "python",
     "metadata": {},
     "outputs": [
      {
       "metadata": {},
       "output_type": "pyout",
       "prompt_number": 36,
       "text": [
        "400"
       ]
      }
     ],
     "prompt_number": 36
    },
    {
     "cell_type": "code",
     "collapsed": false,
     "input": [
      "AB_conc_t = numpy.empty((panels_all.size, panels_all.size+2), dtype=float)\n",
      "\n",
      "AB_conc_t[0:Nd,0:Nd] = source_matrix_t[:,:]\n",
      "AB_conc_t[0:Nd,-2] = -B_gA_t[:]\n",
      "AB_conc_t[0:Nd,-1] = -B_gB_t[:]"
     ],
     "language": "python",
     "metadata": {},
     "outputs": [],
     "prompt_number": 37
    },
    {
     "cell_type": "code",
     "collapsed": false,
     "input": [
      "numpy.shape(AB_conc_t)"
     ],
     "language": "python",
     "metadata": {},
     "outputs": [
      {
       "metadata": {},
       "output_type": "pyout",
       "prompt_number": 38,
       "text": [
        "(400, 402)"
       ]
      }
     ],
     "prompt_number": 38
    },
    {
     "cell_type": "heading",
     "level": 3,
     "metadata": {},
     "source": [
      "Kutta Conditions"
     ]
    },
    {
     "cell_type": "code",
     "collapsed": false,
     "input": [
      "print N"
     ],
     "language": "python",
     "metadata": {},
     "outputs": [
      {
       "output_type": "stream",
       "stream": "stdout",
       "text": [
        "200\n"
       ]
      }
     ],
     "prompt_number": 39
    },
    {
     "cell_type": "code",
     "collapsed": false,
     "input": [
      "kc1 = numpy.zeros(panels_all.size+2, dtype=float) \n",
      "kc2 = numpy.zeros(panels_all.size+2, dtype=float)\n",
      "\n",
      "kc1 = AB_conc_t[0,:] + AB_conc_t[N-1,:]\n",
      "kc2 = AB_conc_t[N,:] + AB_conc_t[Nd-1,:]"
     ],
     "language": "python",
     "metadata": {},
     "outputs": [],
     "prompt_number": 40
    },
    {
     "cell_type": "raw",
     "metadata": {},
     "source": [
      "numpy.shape(kc1), numpy.shape(kc2)"
     ]
    },
    {
     "cell_type": "raw",
     "metadata": {},
     "source": [
      "def kutta_array1(panels):\n",
      "    \n",
      "    N = panels.size\n",
      "    NN = N/2\n",
      "    KC = numpy.zeros(N+2, dtype = float)\n",
      "    \n",
      "    counter_main = xrange(1,NN-1)  #excludes endpoints\n",
      "    counter_flap_all = xrange(NN,N) #excludes endpoints\n",
      "    \n",
      "    for i, p_i in enumerate(panels[counter_main]):\n",
      "        \n",
      "        #source, I'm skipping first and last panel in main\n",
      "        KC[i+1] = 0.5/math.pi*(integral(panels[0].xc, panels[0].yc, p_i,\n",
      "                                                 -math.sin(panels[0].beta), +math.cos(panels[0].beta)) \n",
      "                           + integral(panels[NN-1].xc, panels[NN-1].yc, p_i,\n",
      "                                                 -math.sin(panels[NN-1].beta), +math.cos(panels[NN-1].beta)))\n",
      "        #vortex\n",
      "        KC[N] -= 0.5/math.pi*(integral(panels[0].xc, panels[0].yc, p_i, \n",
      "                                                 +math.cos(panels[0].beta), math.sin(panels[0].beta)) \n",
      "                            + integral(panels[NN-1].xc, panels[NN-1].yc, p_i, \n",
      "                                                 +math.cos(panels[NN-1].beta), math.sin(panels[NN-1].beta)))\n",
      "        \n",
      "    \n",
      "    for i, p_i in enumerate(panels[counter_flap_all]):\n",
      "        \n",
      "        #source\n",
      "        #I'm running all panels for flap here\n",
      "        KC[i+NN] = 0.5/math.pi*(integral(panels[0].xc, panels[0].yc, p_i,\n",
      "                                                 -math.sin(panels[0].beta), +math.cos(panels[0].beta)) \n",
      "                             + integral(panels[NN-1].xc, panels[NN-1].yc, p_i,\n",
      "                                                 -math.sin(panels[NN-1].beta), +math.cos(panels[NN-1].beta)))\n",
      "        \n",
      "        #vortex\n",
      "        KC[N+1] -= 0.5/math.pi*(integral(panels[0].xc, panels[0].yc, p_i, \n",
      "                                                 +math.cos(panels[0].beta), math.sin(panels[0].beta)) \n",
      "                              + integral(panels[NN-1].xc, panels[NN-1].yc, p_i, \n",
      "                                                 +math.cos(panels[NN-1].beta), math.sin(panels[NN-1].beta)))\n",
      "    \n",
      "    \n",
      "    KC[0] = (0.5 + 0.5/math.pi*(integral(panels[NN-1].xc, panels[NN-1].yc, panels[0],\n",
      "                                                 -math.sin(panels[NN-1].beta), +math.cos(panels[NN-1].beta))))\n",
      "   \n",
      "    KC[NN-1] = (0.5 + 0.5/math.pi*(integral(panels[0].xc, panels[0].yc, panels[NN-1],\n",
      "                                                 -math.sin(panels[0].beta), +math.cos(panels[0].beta))))\n",
      "\n",
      "    \n",
      "    # contributions to Gamma A coeff from first and last index in main airfoil\n",
      "    KC[N] -= ( 0.5 + 0.5/math.pi*(integral(panels[NN-1].xc, panels[NN-1].yc, panels[0], \n",
      "                                                 +math.cos(panels[NN-1].beta), math.sin(panels[NN-1].beta))) \n",
      "             + 0.5 + 0.5/math.pi*(integral(panels[0].xc, panels[0].yc, panels[NN-1], \n",
      "                                                 +math.cos(panels[0].beta), math.sin(panels[0].beta) )) )\n",
      "\n",
      "    \n",
      "    \n",
      "    return KC"
     ]
    },
    {
     "cell_type": "raw",
     "metadata": {},
     "source": [
      "kc1 = kutta_array1(panels_all)"
     ]
    },
    {
     "cell_type": "raw",
     "metadata": {},
     "source": [
      "def kutta_array2(panels):\n",
      "    \n",
      "    N = panels.size\n",
      "    NN = N/2\n",
      "    KC = numpy.zeros(N+2, dtype = float)\n",
      "    \n",
      "    counter_main_all = xrange(0,NN)  #excludes endpoints\n",
      "    counter_flap = xrange(NN+1,N-1) #excludes endpoints\n",
      "    \n",
      "    for i, p_i in enumerate(panels[counter_main_all]):\n",
      "        \n",
      "        #source\n",
      "        #I'm running all panels for main here\n",
      "        KC[i] = 0.5/math.pi*(integral(panels[NN].xc, panels[NN].yc, p_i,\n",
      "                                                 -math.sin(panels[NN].beta), +math.cos(panels[NN].beta)) \n",
      "                                   + integral(panels[N-1].xc, panels[N-1].yc, p_i,\n",
      "                                                 -math.sin(panels[N-1].beta), +math.cos(panels[N-1].beta)))\n",
      "        #vortex    \n",
      "        KC[N] -= 0.5/math.pi*(integral(panels[NN].xc, panels[NN].yc, p_i, \n",
      "                                                 +math.cos(panels[NN].beta), math.sin(panels[NN].beta)) \n",
      "                                   +integral(panels[N-1].xc, panels[N-1].yc, p_i, \n",
      "                                                 +math.cos(panels[N-1].beta), math.sin(panels[N-1].beta)))\n",
      "    \n",
      "    for i, p_i in enumerate(panels[counter_flap]):\n",
      "        \n",
      "        #I'm skipping the first and last panel\n",
      "        #source\n",
      "        KC[i+NN+1] = 0.5/math.pi*(integral(panels[NN].xc, panels[NN].yc, p_i,\n",
      "                                                 -math.sin(panels[NN].beta), +math.cos(panels[NN].beta)) \n",
      "                                    + integral(panels[N-1].xc, panels[N-1].yc, p_i,\n",
      "                                                 -math.sin(panels[N-1].beta), +math.cos(panels[N-1].beta)))\n",
      "        \n",
      "        #vortex \n",
      "        KC[N+1] -= 0.5/math.pi*(integral(panels[NN].xc, panels[NN].yc, p_i, \n",
      "                                                 +math.cos(panels[NN].beta), math.sin(panels[NN].beta)) \n",
      "                                   +integral(panels[N-1].xc, panels[N-1].yc, p_i, \n",
      "                                                 +math.cos(panels[N-1].beta), math.sin(panels[N-1].beta)))\n",
      "        \n",
      "    \n",
      "\n",
      "    KC[NN] = 0.5 + 0.5/math.pi*(integral(panels[N-1].xc, panels[N-1].yc, panels[NN], \n",
      "                                          -math.sin(panels[N-1].beta), +math.cos(panels[N-1].beta)))\n",
      "    \n",
      "    KC[N-1] = 0.5 + 0.5/math.pi*(integral(panels[NN].xc, panels[NN].yc, panels[N-1],\n",
      "                              -math.sin(panels[NN].beta), +math.cos(panels[NN].beta)))\n",
      "    \n",
      "    \n",
      "    # contributions from first and last index in flap\n",
      "    \n",
      "    \n",
      "    KC[N+1] -= (0.5 + 0.5/math.pi*(integral(panels[N-1].xc, panels[N-1].yc, panels[NN], \n",
      "                                                 +math.cos(panels[N-1].beta), math.sin(panels[N-1].beta))) \n",
      "              + 0.5 + 0.5/math.pi*(integral(panels[NN].xc, panels[NN].yc, panels[N-1], \n",
      "                                                 +math.cos(panels[NN].beta), math.sin(panels[NN].beta) )))\n",
      "    \n",
      "    return KC"
     ]
    },
    {
     "cell_type": "raw",
     "metadata": {},
     "source": [
      "kc2 = kutta_array2(panels_all)"
     ]
    },
    {
     "cell_type": "code",
     "collapsed": false,
     "input": [
      "#print kc2"
     ],
     "language": "python",
     "metadata": {},
     "outputs": [],
     "prompt_number": 41
    },
    {
     "cell_type": "code",
     "collapsed": false,
     "input": [
      "len(panels_all)"
     ],
     "language": "python",
     "metadata": {},
     "outputs": [
      {
       "metadata": {},
       "output_type": "pyout",
       "prompt_number": 42,
       "text": [
        "400"
       ]
      }
     ],
     "prompt_number": 42
    },
    {
     "cell_type": "heading",
     "level": 3,
     "metadata": {},
     "source": [
      "Build the Matrices and Solve"
     ]
    },
    {
     "cell_type": "code",
     "collapsed": false,
     "input": [
      "def build_matrix(panels, conc_matrix_normal, k1, k2):\n",
      "    \"\"\"Builds the matrix of the linear system.\n",
      "    \n",
      "    Arguments\n",
      "    ---------\n",
      "    panels: array of panels.\n",
      "    conc_matrix_normal: source coefficient matrix concatenated with gamma arrays\n",
      "    k1: Kutta array 1\n",
      "    k2: Kutta array 2\n",
      "    \n",
      "    Returns\n",
      "    -------\n",
      "    A -- (N+2)x(N+2) matrix (N is the number of panels).\n",
      "    \"\"\"\n",
      "    N = len(panels)\n",
      "    A = numpy.empty((N+2, N+2), dtype=float)\n",
      "    \n",
      "    A[0:N,:] = conc_matrix_normal[:,:]\n",
      "    A[-2,:] = k1[:]\n",
      "    A[-1,:] = k2[:]\n",
      "    \n",
      "    return A"
     ],
     "language": "python",
     "metadata": {},
     "outputs": [],
     "prompt_number": 43
    },
    {
     "cell_type": "code",
     "collapsed": false,
     "input": [
      "A = build_matrix(panels_all, AB_conc_n, kc1, kc2)"
     ],
     "language": "python",
     "metadata": {},
     "outputs": [],
     "prompt_number": 44
    },
    {
     "cell_type": "raw",
     "metadata": {},
     "source": [
      "# Build A Matrix\n",
      "\n",
      "N = len(panels_all)\n",
      "NN = N/2\n",
      "A = numpy.zeros((N+2, N+2), dtype=float)\n",
      "\n",
      "\n",
      "A[0:N, 0:N] = source_matrix_n[:,:]  #source matrix \n",
      "\n",
      "A[0:N,N]   = B_gA_n[:] # Column of vortex terms for gamma A\n",
      "\n",
      "A[0:N,N+1] = B_gB_n[:] # Column of vortex terms for gamma B\n",
      "\n",
      "A[N,0:N+2] = kc1[:] # Kutta condition 1\n",
      "\n",
      "A[N+1,0:N+2] = kc2[:] # Kutta condition 2\n"
     ]
    },
    {
     "cell_type": "code",
     "collapsed": false,
     "input": [
      "# solves the linear system\n",
      "variables = numpy.linalg.solve(A, b)\n",
      "\n",
      "for i, panel in enumerate(panels_all):\n",
      "    panel.sigma = variables[i]\n",
      "\n",
      "gamma_A = variables[-2]\n",
      "gamma_B = variables[-1]"
     ],
     "language": "python",
     "metadata": {},
     "outputs": [],
     "prompt_number": 45
    },
    {
     "cell_type": "code",
     "collapsed": false,
     "input": [
      "#print variables"
     ],
     "language": "python",
     "metadata": {},
     "outputs": [],
     "prompt_number": 46
    },
    {
     "cell_type": "code",
     "collapsed": false,
     "input": [
      "numpy.shape(variables)"
     ],
     "language": "python",
     "metadata": {},
     "outputs": [
      {
       "metadata": {},
       "output_type": "pyout",
       "prompt_number": 47,
       "text": [
        "(402,)"
       ]
      }
     ],
     "prompt_number": 47
    },
    {
     "cell_type": "code",
     "collapsed": false,
     "input": [
      "print gamma_A, gamma_B"
     ],
     "language": "python",
     "metadata": {},
     "outputs": [
      {
       "output_type": "stream",
       "stream": "stdout",
       "text": [
        "0.674910427192 0.617965804112\n"
       ]
      }
     ],
     "prompt_number": 48
    },
    {
     "cell_type": "raw",
     "metadata": {},
     "source": [
      "0.674910427192\n",
      "0.617965804112\n",
      "\n",
      "0.686787130998 #using other method with B_gA_t, B_gB_t = vortex_arrays_n(panels_all, source_matrix_n)\n",
      "0.637596700205\n",
      "\n",
      "0.6739091341  #Using my kc\n",
      "0.617658492945\n",
      "\n",
      "0.686787130998 #using other method with B_gA_t, B_gB_t = vortex_arrays_n(panels_all, source_matrix_n)\n",
      "0.637596700205"
     ]
    },
    {
     "cell_type": "code",
     "collapsed": false,
     "input": [
      "print variables[0]"
     ],
     "language": "python",
     "metadata": {},
     "outputs": [
      {
       "output_type": "stream",
       "stream": "stdout",
       "text": [
        "-7.75177660401\n"
       ]
      }
     ],
     "prompt_number": 49
    },
    {
     "cell_type": "heading",
     "level": 3,
     "metadata": {},
     "source": [
      "Tangential Velocity"
     ]
    },
    {
     "cell_type": "code",
     "collapsed": false,
     "input": [
      "def get_tangential_velocity(panels, freestream, gamma1, gamma2, conc_matrix_t):\n",
      "    \"\"\"Computes the tangential velocity on the surface.\n",
      "    \n",
      "    Arguments\n",
      "    ---------\n",
      "    panels -- array of panels.\n",
      "    freestream -- farfield conditions.\n",
      "    gamma1 -- circulation density of airfoil.\n",
      "    gamma2 -- circulation density of flap.\n",
      "    conc_matrix_t -- concatenated tangential matrix of source matrix and gamma arrays\n",
      "    \n",
      "    \"\"\"\n",
      "    N = len(panels)\n",
      "\n",
      "    b = freestream.u_inf * numpy.sin([freestream.alpha - panel.beta for panel in panels])\n",
      "    \n",
      "    var1 = numpy.append([panel.sigma for panel in panels], gamma1)\n",
      "    var = numpy.append(var1, gamma2)\n",
      "    \n",
      "    vt = numpy.dot(conc_matrix_t, var) + b\n",
      "    for i, panel in enumerate(panels):\n",
      "        panel.vt = vt[i]"
     ],
     "language": "python",
     "metadata": {},
     "outputs": [],
     "prompt_number": 50
    },
    {
     "cell_type": "code",
     "collapsed": false,
     "input": [
      "get_tangential_velocity(panels_all, freestream, gamma_A, gamma_B, AB_conc_t)"
     ],
     "language": "python",
     "metadata": {},
     "outputs": [],
     "prompt_number": 51
    },
    {
     "cell_type": "heading",
     "level": 3,
     "metadata": {},
     "source": [
      "Pressure Coefficient"
     ]
    },
    {
     "cell_type": "code",
     "collapsed": false,
     "input": [
      "def get_pressure_coefficient(panels, freestream):\n",
      "    \"\"\"Computes the surface pressure coefficients.\n",
      "    \n",
      "    Arguments\n",
      "    ---------\n",
      "    panels -- array of panels.\n",
      "    freestream -- farfield conditions.\n",
      "    \"\"\"\n",
      "    for panel in panels:\n",
      "        panel.cp = 1.0 - (panel.vt/freestream.u_inf)**2"
     ],
     "language": "python",
     "metadata": {},
     "outputs": [],
     "prompt_number": 52
    },
    {
     "cell_type": "code",
     "collapsed": false,
     "input": [
      "# computes surface pressure coefficient\n",
      "get_pressure_coefficient(panels_all, freestream)"
     ],
     "language": "python",
     "metadata": {},
     "outputs": [],
     "prompt_number": 53
    },
    {
     "cell_type": "code",
     "collapsed": false,
     "input": [
      "# plots the surface pressure coefficient\n",
      "val_x, val_y = 0.1, 0.2\n",
      "x_min, x_max = min( panel.xa for panel in panels_all ), max( panel.xa for panel in panels_all )\n",
      "cp_min, cp_max = min( panel.cp for panel in panels_all ), max( panel.cp for panel in panels_all )\n",
      "x_start, x_end = x_min-val_x*(x_max-x_min), x_max+val_x*(x_max-x_min)\n",
      "y_start, y_end = cp_min-val_y*(cp_max-cp_min), cp_max+val_y*(cp_max-cp_min)\n",
      "\n",
      "# plots the surface pressure coefficient\n",
      "\n",
      "airfoil = panels_all[:N]\n",
      "flap = panels_all[N:]\n",
      "\n",
      "pyplot.figure(figsize=(10, 6))\n",
      "pyplot.grid(True)\n",
      "pyplot.xlabel('x', fontsize=16)\n",
      "pyplot.ylabel('$C_p$', fontsize=16)\n",
      "pyplot.plot([panel.xc for panel in airfoil if panel.loc == 'extrados'], \n",
      "         [panel.cp for panel in airfoil if panel.loc == 'extrados'], \n",
      "         color='r', linestyle='-', linewidth=2, marker='o', markersize=6)\n",
      "pyplot.plot([panel.xc for panel in flap if panel.loc == 'extrados'], \n",
      "         [panel.cp for panel in flap if panel.loc == 'extrados'], \n",
      "         color='r', linestyle='-', linewidth=2, marker='o', markersize=6)\n",
      "pyplot.plot([panel.xc for panel in airfoil if panel.loc == 'intrados'], \n",
      "         [panel.cp for panel in airfoil if panel.loc == 'intrados'], \n",
      "         color='b', linestyle='-', linewidth=1, marker='o', markersize=6)\n",
      "pyplot.plot([panel.xc for panel in flap if panel.loc == 'intrados'], \n",
      "         [panel.cp for panel in flap if panel.loc == 'intrados'], \n",
      "         color='b', linestyle='-', linewidth=1, marker='o', markersize=6)\n",
      "pyplot.plot(x_airfoil_thrt, cp_airfoil_thrt, 'k+', x_flap_thrt, cp_flap_thrt, 'k+')\n",
      "\n",
      "\n",
      "pyplot.xlim(x_start, x_end)\n",
      "pyplot.ylim(y_start, y_end)\n",
      "pyplot.gca().invert_yaxis()\n",
      "pyplot.title('Number of panels : %d' % N);"
     ],
     "language": "python",
     "metadata": {},
     "outputs": [
      {
       "metadata": {},
       "output_type": "display_data",
       "png": "[encoded data removed]",
       "text": [
        "<matplotlib.figure.Figure at 0x107d4ed50>"
       ]
      }
     ],
     "prompt_number": 54
    },
    {
     "cell_type": "heading",
     "level": 3,
     "metadata": {},
     "source": [
      "Numerical Results"
     ]
    },
    {
     "cell_type": "raw",
     "metadata": {},
     "source": [
      "\n",
      "Theoretical Values:\n",
      "\n",
      "Lift = 3.7386\n",
      "Drag = 0.0\n",
      "\n",
      "\n",
      "For 100 panels:\n",
      "\n",
      "Cp on 3rd panel of main airfoil =  -0.964239162835\n",
      "Cp on 10th panel of flap =  -0.303824114185\n",
      "\n",
      "total lift =  3.7251101294   #the accepted answer in openedx is 3.71\n",
      "total drag =  0.0101122960876\n",
      "\n",
      "For 200 Panels:\n",
      "\n"
     ]
    },
    {
     "cell_type": "code",
     "collapsed": false,
     "input": [
      "print 'Cp on 3rd panel of main airfoil = ', panels_all[2].cp "
     ],
     "language": "python",
     "metadata": {},
     "outputs": [
      {
       "output_type": "stream",
       "stream": "stdout",
       "text": [
        "Cp on 3rd panel of main airfoil =  -0.553530359708\n"
       ]
      }
     ],
     "prompt_number": 55
    },
    {
     "cell_type": "code",
     "collapsed": false,
     "input": [
      "print 'Cp on 10th panel of flap = ', panels_all[N+9].cp "
     ],
     "language": "python",
     "metadata": {},
     "outputs": [
      {
       "output_type": "stream",
       "stream": "stdout",
       "text": [
        "Cp on 10th panel of flap =  0.262580530047\n"
       ]
      }
     ],
     "prompt_number": 56
    },
    {
     "cell_type": "code",
     "collapsed": false,
     "input": [
      "def get_drag_and_lift(panels):\n",
      "    Lift = 0.0\n",
      "    Drag = 0.0\n",
      "    \n",
      "    for p_i in panels:\n",
      "        \n",
      "        Lift -= p_i.cp*p_i.length*math.sin(p_i.beta)\n",
      "        Drag += p_i.cp*p_i.length*math.cos(p_i.beta)\n",
      "        \n",
      "    return Lift, Drag"
     ],
     "language": "python",
     "metadata": {},
     "outputs": [],
     "prompt_number": 57
    },
    {
     "cell_type": "code",
     "collapsed": false,
     "input": [
      "Lift, Drag = get_drag_and_lift(panels_all)"
     ],
     "language": "python",
     "metadata": {},
     "outputs": [],
     "prompt_number": 58
    },
    {
     "cell_type": "code",
     "collapsed": false,
     "input": [
      "print 'total lift = ', Lift\n",
      "print 'total drag = ', Drag"
     ],
     "language": "python",
     "metadata": {},
     "outputs": [
      {
       "output_type": "stream",
       "stream": "stdout",
       "text": [
        "total lift =  3.71843390868\n",
        "total drag =  0.0055835520559\n"
       ]
      }
     ],
     "prompt_number": 59
    },
    {
     "cell_type": "heading",
     "level": 3,
     "metadata": {},
     "source": [
      "Absolute error"
     ]
    },
    {
     "cell_type": "code",
     "collapsed": false,
     "input": [
      "lift_100_panels = 3.69771447686                 \n",
      "drag_100_panels = 0.0107914032459                \n",
      "\n",
      "lift_200_panels = Lift\n",
      "drag_200_panels = Drag\n",
      "\n",
      "lift_thrt = 3.7386\n",
      "drag_thrt = 0.0"
     ],
     "language": "python",
     "metadata": {},
     "outputs": [],
     "prompt_number": 60
    },
    {
     "cell_type": "code",
     "collapsed": false,
     "input": [
      "abs_err_L_100p = 100*(1.0 - (numpy.abs(lift_100_panels)/lift_thrt))\n",
      "abs_err_D_100p = 100*(1.0 - (numpy.abs(drag_thrt)/drag_100_panels))\n",
      "\n",
      "abs_err_L_200p = 100*(1.0 - (numpy.abs(lift_200_panels)/lift_thrt))\n",
      "abs_err_D_200p = 100*(1.0 - (numpy.abs(drag_thrt)/drag_100_panels))"
     ],
     "language": "python",
     "metadata": {},
     "outputs": [],
     "prompt_number": 61
    },
    {
     "cell_type": "code",
     "collapsed": false,
     "input": [
      "abs_err_L_diff = numpy.abs(abs_err_L_200p-abs_err_L_100p)\n",
      "abs_err_D_diff = numpy.abs(abs_err_D_200p-abs_err_D_100p)"
     ],
     "language": "python",
     "metadata": {},
     "outputs": [],
     "prompt_number": 62
    },
    {
     "cell_type": "code",
     "collapsed": false,
     "input": [
      "print abs_err_L_100p, abs_err_L_200p"
     ],
     "language": "python",
     "metadata": {},
     "outputs": [
      {
       "output_type": "stream",
       "stream": "stdout",
       "text": [
        "1.0936051768 0.539402217909\n"
       ]
      }
     ],
     "prompt_number": 63
    },
    {
     "cell_type": "code",
     "collapsed": false,
     "input": [
      "print 'The percentage Absolute Error in Lift between 100 and 200 panels is:', numpy.round(100*(1 - (abs_err_L_200p/abs_err_L_100p)),2)"
     ],
     "language": "python",
     "metadata": {},
     "outputs": [
      {
       "output_type": "stream",
       "stream": "stdout",
       "text": [
        "The percentage Absolute Error in Lift between 100 and 200 panels is: 50.68\n"
       ]
      }
     ],
     "prompt_number": 64
    },
    {
     "cell_type": "code",
     "collapsed": false,
     "input": [
      "'The percentage Absolute Error in Drag between 100 and 200 panels is:', numpy.round(100*(1 - (abs_err_D_200p/abs_err_D_100p)),2)"
     ],
     "language": "python",
     "metadata": {},
     "outputs": [
      {
       "metadata": {},
       "output_type": "pyout",
       "prompt_number": 65,
       "text": [
        "('The percentage Absolute Error in Drag between 100 and 200 panels is:', 0.0)"
       ]
      }
     ],
     "prompt_number": 65
    },
    {
     "cell_type": "heading",
     "level": 1,
     "metadata": {},
     "source": [
      "Part 2 - Bisection Method"
     ]
    },
    {
     "cell_type": "raw",
     "metadata": {},
     "source": [
      "Use the bisection method to determine the angle of attack, \u03b1, that will cause zero lift when the flap angle is 20\u00ba. Round your answer to the second digit after the floating point.\n"
     ]
    },
    {
     "cell_type": "code",
     "collapsed": false,
     "input": [
      "# loading the geometry from a data file\n",
      "x_airfoil, y_airfoil = numpy.loadtxt('NACA23012_MainFoil.csv', dtype=float, delimiter=',', unpack=True)\n",
      "x_flap, y_flap = numpy.loadtxt('NACA23012_FlapFoil.csv',dtype=float, delimiter=',', unpack=True)"
     ],
     "language": "python",
     "metadata": {},
     "outputs": [],
     "prompt_number": 66
    },
    {
     "cell_type": "code",
     "collapsed": false,
     "input": [
      "%matplotlib inline\n",
      "\n",
      "val_x, val_y = 0.1, 0.2\n",
      "x_min, x_max = x_airfoil.min(), x_flap.max()\n",
      "y_min, y_max = y_flap.min(), y_airfoil.max()\n",
      "x_start, x_end = x_min-val_x*(x_max-x_min), x_max+val_x*(x_max-x_min)\n",
      "y_start, y_end = y_min-val_y*(y_max-y_min), y_max+val_y*(y_max-y_min)\n",
      "\n",
      "size = 10\n",
      "\n",
      "pyplot.figure(figsize=(size, (y_end-y_start)/(x_end-x_start)*size))\n",
      "pyplot.grid(True)\n",
      "\n",
      "pyplot.xlabel('x', fontsize=16)\n",
      "pyplot.ylabel('y', fontsize=16)\n",
      "\n",
      "pyplot.xlim(x_start, x_end)\n",
      "pyplot.ylim(y_start, y_end)\n",
      "\n",
      "pyplot.plot(x_airfoil, y_airfoil, color='k', linestyle='-', linewidth=2)\n",
      "pyplot.plot(x_flap, y_flap, color='k', linestyle='-', linewidth=2);"
     ],
     "language": "python",
     "metadata": {},
     "outputs": [
      {
       "metadata": {},
       "output_type": "display_data",
       "png": "[encoded data removed]",
       "text": [
        "<matplotlib.figure.Figure at 0x107f2a850>"
       ]
      }
     ],
     "prompt_number": 67
    },
    {
     "cell_type": "heading",
     "level": 3,
     "metadata": {},
     "source": [
      "Rotate Flap"
     ]
    },
    {
     "cell_type": "code",
     "collapsed": false,
     "input": [
      "x_rot = 1.03\n",
      "y_rot = -0.054"
     ],
     "language": "python",
     "metadata": {},
     "outputs": [],
     "prompt_number": 68
    },
    {
     "cell_type": "code",
     "collapsed": false,
     "input": [
      "# There are 151 x_flap points and 151 y_flap points\n",
      "\n",
      "a_rot = -20.0*(math.pi/180.0)  # angle of rotation for flap\n",
      "\n",
      "R = numpy.zeros((2,2), dtype=float)\n",
      "R = numpy.matrix( ((math.cos(a_rot),-math.sin(a_rot)), (math.sin(a_rot), math.cos(a_rot))) )"
     ],
     "language": "python",
     "metadata": {},
     "outputs": [],
     "prompt_number": 69
    },
    {
     "cell_type": "code",
     "collapsed": false,
     "input": [
      "from scipy import linalg"
     ],
     "language": "python",
     "metadata": {},
     "outputs": [],
     "prompt_number": 70
    },
    {
     "cell_type": "code",
     "collapsed": false,
     "input": [
      "R_inv = linalg.inv(R)"
     ],
     "language": "python",
     "metadata": {},
     "outputs": [],
     "prompt_number": 71
    },
    {
     "cell_type": "code",
     "collapsed": false,
     "input": [
      "xy_column = numpy.concatenate((x_flap, y_flap), axis=1)"
     ],
     "language": "python",
     "metadata": {},
     "outputs": [],
     "prompt_number": 72
    },
    {
     "cell_type": "code",
     "collapsed": false,
     "input": [
      "x_flap_r = numpy.empty((len(x_flap)), dtype=float)\n",
      "y_flap_r = numpy.empty((len(y_flap)), dtype=float)\n",
      "\n",
      "\n",
      "for i in xrange(len(x_flap)):\n",
      "    \n",
      "    #a = numpy.array((xy_column[i],xy_column[i+151]))\n",
      "    a = numpy.vstack((x_flap[i]-x_rot,y_flap[i]-y_rot))\n",
      "    variables = linalg.solve(R_inv,a)\n",
      "    x_flap_r[i] = variables[0]+x_rot\n",
      "    y_flap_r[i] = variables[1]+y_rot\n"
     ],
     "language": "python",
     "metadata": {},
     "outputs": [],
     "prompt_number": 73
    },
    {
     "cell_type": "heading",
     "level": 3,
     "metadata": {},
     "source": [
      "Plot Rotated Flap with Airfoil"
     ]
    },
    {
     "cell_type": "code",
     "collapsed": false,
     "input": [
      "%matplotlib inline\n",
      "\n",
      "val_x, val_y = 0.1, 0.2\n",
      "x_min, x_max = x_airfoil.min(), x_flap_r.max()\n",
      "y_min, y_max = y_flap_r.min(), y_airfoil.max()\n",
      "x_start, x_end = x_min-val_x*(x_max-x_min), x_max+val_x*(x_max-x_min)\n",
      "y_start, y_end = y_min-val_y*(y_max-y_min), y_max+val_y*(y_max-y_min)\n",
      "\n",
      "size = 10\n",
      "\n",
      "pyplot.figure(figsize=(size, (y_end-y_start)/(x_end-x_start)*size))\n",
      "pyplot.grid(True)\n",
      "\n",
      "pyplot.xlabel('x', fontsize=16)\n",
      "pyplot.ylabel('y', fontsize=16)\n",
      "\n",
      "pyplot.xlim(x_start, x_end)\n",
      "pyplot.ylim(y_start, y_end)\n",
      "\n",
      "pyplot.plot(x_airfoil, y_airfoil, color='k', linestyle='-', linewidth=2)\n",
      "pyplot.plot(x_flap_r, y_flap_r, color='k', linestyle='-', linewidth=2);"
     ],
     "language": "python",
     "metadata": {},
     "outputs": [
      {
       "metadata": {},
       "output_type": "display_data",
       "png": "[encoded data removed]",
       "text": [
        "<matplotlib.figure.Figure at 0x10885c110>"
       ]
      }
     ],
     "prompt_number": 74
    },
    {
     "cell_type": "heading",
     "level": 3,
     "metadata": {},
     "source": [
      "Discretize into Panels"
     ]
    },
    {
     "cell_type": "code",
     "collapsed": false,
     "input": [
      "len(x_flap_r)"
     ],
     "language": "python",
     "metadata": {},
     "outputs": [
      {
       "metadata": {},
       "output_type": "pyout",
       "prompt_number": 75,
       "text": [
        "151"
       ]
      }
     ],
     "prompt_number": 75
    },
    {
     "cell_type": "code",
     "collapsed": false,
     "input": [
      "N_part2 = 150"
     ],
     "language": "python",
     "metadata": {},
     "outputs": [],
     "prompt_number": 76
    },
    {
     "cell_type": "code",
     "collapsed": false,
     "input": [
      "panels_airfoil2 = define_panels(x_airfoil,y_airfoil, N_part2 )# discretizes of the geometry into panels\n",
      "panels_flap2 = define_panels(x_flap_r,y_flap_r, N_part2)"
     ],
     "language": "python",
     "metadata": {},
     "outputs": [],
     "prompt_number": 77
    },
    {
     "cell_type": "code",
     "collapsed": false,
     "input": [
      "# plots the geometry and the panels\n",
      "val_x, val_y = 0.1, 0.2\n",
      "x_min, x_max = min(panel.xa for panel in panels_airfoil2), max(panel.xa for panel in panels_flap2)\n",
      "y_min, y_max = min(panel.ya for panel in panels_flap2), max(panel.ya for panel in panels_airfoil2)\n",
      "x_start, x_end = x_min-val_x*(x_max-x_min), x_max+val_x*(x_max-x_min)\n",
      "y_start, y_end = y_min-val_y*(y_max-y_min), y_max+val_y*(y_max-y_min)\n",
      "\n",
      "size = 10\n",
      "pyplot.figure(figsize=(size, (y_end-y_start)/(x_end-x_start)*size))\n",
      "pyplot.grid(True)\n",
      "pyplot.xlabel('x', fontsize=16)\n",
      "pyplot.ylabel('y', fontsize=16)\n",
      "pyplot.xlim(x_start, x_end)\n",
      "pyplot.ylim(y_start, y_end)\n",
      "pyplot.plot(x_airfoil, y_airfoil, x_flap_r, y_flap_r, color='k', linestyle='-', linewidth=2)\n",
      "pyplot.plot(numpy.append([panel.xa for panel in panels_airfoil2], panels_airfoil2[0].xa), \n",
      "         numpy.append([panel.ya for panel in panels_airfoil2], panels_airfoil2[0].ya), \n",
      "         numpy.append([panel.xa for panel in panels_flap2], panels_flap2[0].xa), \n",
      "         numpy.append([panel.ya for panel in panels_flap2], panels_flap2[0].ya),\n",
      "         linestyle='-', linewidth=1, marker='o', markersize=6, color='b');"
     ],
     "language": "python",
     "metadata": {},
     "outputs": [
      {
       "metadata": {},
       "output_type": "display_data",
       "png": "[encoded data removed]",
       "text": [
        "<matplotlib.figure.Figure at 0x107935a90>"
       ]
      }
     ],
     "prompt_number": 78
    },
    {
     "cell_type": "code",
     "collapsed": false,
     "input": [
      "Nmax = 100\n",
      "N = 150\n",
      "C = 100\n",
      "    "
     ],
     "language": "python",
     "metadata": {},
     "outputs": [],
     "prompt_number": 79
    },
    {
     "cell_type": "code",
     "collapsed": false,
     "input": [
      "panels_all2 = numpy.concatenate((panels_airfoil2, panels_flap2))"
     ],
     "language": "python",
     "metadata": {},
     "outputs": [],
     "prompt_number": 80
    },
    {
     "cell_type": "code",
     "collapsed": false,
     "input": [
      "numpy.shape(panels_all2)"
     ],
     "language": "python",
     "metadata": {},
     "outputs": [
      {
       "metadata": {},
       "output_type": "pyout",
       "prompt_number": 81,
       "text": [
        "(300,)"
       ]
      }
     ],
     "prompt_number": 81
    },
    {
     "cell_type": "code",
     "collapsed": false,
     "input": [
      "print N_part2"
     ],
     "language": "python",
     "metadata": {},
     "outputs": [
      {
       "output_type": "stream",
       "stream": "stdout",
       "text": [
        "150\n"
       ]
      }
     ],
     "prompt_number": 82
    },
    {
     "cell_type": "heading",
     "level": 3,
     "metadata": {},
     "source": [
      "Bisection Method To Find Angle of Attack For Zero Lift"
     ]
    },
    {
     "cell_type": "code",
     "collapsed": false,
     "input": [
      "alpha_start = -14.0\n",
      "alpha_end = 14.0\n",
      "\n",
      "TOL = 1.0*10**-3\n",
      "\n",
      "while C <= Nmax:\n",
      "    \n",
      "    alpha_mid = (alpha_end+alpha_start)/2\n",
      "    \n",
      "    print 'alpha_start', alpha_start\n",
      "    print 'alpha_mid', alpha_mid\n",
      "    print 'alpha_end', alpha_end\n",
      "    \n",
      "    #Freestream------------------------------------------------------------------------------------------------------------\n",
      "    freestream_mid = Freestream(u_inf, alpha_mid) \n",
      "    b_mid = build_rhs(panels_all2, freestream_mid)\n",
      "    \n",
      "    freestream_start = Freestream(u_inf, alpha_start) \n",
      "    b_start = build_rhs(panels_all2, freestream_start)\n",
      "    \n",
      "    #Normal source/vortex matrices---------------------------------------------------------------------\n",
      "     \n",
      "    source_matrix_n2 = source_matrix(panels_all2)\n",
      "    vortex_matrix_n2 = vortex_matrix_norm(panels_all2)\n",
      "    \n",
      "    #Normal vortex arrays---------------------------------------------------------------------------\n",
      "     \n",
      "    B_gA_n2, B_gB_n2 = vortex_arrays_n(panels_all2, vortex_matrix_n2)  #vortex arrays normal\n",
      "    \n",
      "    # Build the Normal matrix-----------------------------------------------------------------------------\n",
      "    \n",
      "    Nd = 2*N_part2\n",
      "    AB_conc_n2 = numpy.empty((panels_all2.size, panels_all2.size+2), dtype=float)\n",
      "\n",
      "    AB_conc_n2[0:Nd,0:Nd] = source_matrix_n2[:,:]\n",
      "    AB_conc_n2[0:Nd,-2] = B_gA_n2[:]\n",
      "    AB_conc_n2[0:Nd,-1] = B_gB_n2[:]\n",
      "    \n",
      "    \n",
      "    # Tangential vortex arrays---------------------------------------------------------------------\n",
      "    \n",
      "    B_gA_t2, B_gB_t2 = vortex_arrays_t(panels_all2, source_matrix_n2)  #vortex arrays tangential\n",
      "    \n",
      "    source_matrix_t2 = numpy.zeros((panels_all2.size, panels_all2.size), dtype=float)  #tangential source matrix\n",
      "    source_matrix_t2[:,:] = vortex_matrix_n2[:,:]\n",
      "    \n",
      "    #Build the Tangential Matrix----------------------------------------------------------------------\n",
      "    AB_conc_t2 = numpy.empty((panels_all2.size, panels_all2.size+2), dtype=float)\n",
      "\n",
      "    AB_conc_t2[0:Nd,0:Nd] = source_matrix_t2[:,:]\n",
      "    AB_conc_t2[0:Nd,-2] = -B_gA_t2[:]\n",
      "    AB_conc_t2[0:Nd,-1] = -B_gB_t2[:]\n",
      "    \n",
      "    \n",
      "    #Kutta Conditions------------------------------------------------------------------------\n",
      "    kc1 = numpy.zeros(panels_all2.size+2, dtype=float) \n",
      "    kc2 = numpy.zeros(panels_all2.size+2, dtype=float)\n",
      "\n",
      "    kc1 = AB_conc_t2[0,:] + AB_conc_t2[N-1,:]\n",
      "    kc2 = AB_conc_t2[N,:] + AB_conc_t2[Nd-1,:]\n",
      "    \n",
      "    #Solve Linear System ------------------------------------------------------------------------\n",
      "   \n",
      "    A = build_matrix(panels_all2, AB_conc_n2, kc1, kc2)\n",
      "    \n",
      "    variables_start = numpy.linalg.solve(A, b_start)\n",
      "    variables_mid = numpy.linalg.solve(A, b_mid)\n",
      "\n",
      "    for i, panel in enumerate(panels_all2):\n",
      "        panel.sigma = variables_start[i]\n",
      "        panel.sigma = variables_mid[i]\n",
      "\n",
      "    gamma_A_start = variables_start[-2]\n",
      "    gamma_B_start = variables_start[-1]\n",
      "    \n",
      "    gamma_A_mid = variables_mid[-2]\n",
      "    gamma_B_mid = variables_mid[-1]\n",
      "    \n",
      "    #-Tangential Velocity -----------------------------------------------------------------------\n",
      "    \n",
      "    get_tangential_velocity(panels_all2, freestream_start, gamma_A_start, gamma_B_start, AB_conc_t2)\n",
      "    get_pressure_coefficient(panels_all2, freestream_start)\n",
      "    \n",
      "    Lift_start, Drag_start = get_drag_and_lift(panels_all2)\n",
      "    \n",
      "    get_tangential_velocity(panels_all2, freestream_mid, gamma_A_mid, gamma_B_mid, AB_conc_t2)\n",
      "    get_pressure_coefficient(panels_all2, freestream_mid)\n",
      "   \n",
      "    Lift_mid, Drag_mid = get_drag_and_lift(panels_all2)\n",
      "    \n",
      "    print 'Lift at mid', Lift_mid\n",
      "    print 'Lift at start', Lift_start\n",
      "    \n",
      "    if (Lift_mid <= TOL) and (Lift_mid >= 0):\n",
      "        print 'ALPHA_LIFT_ZERO', alpha_mid\n",
      "        break\n",
      "    \n",
      "    if (Lift_mid >= -TOL) and (Lift_mid <= 0):\n",
      "        print 'ALPHA_LIFT_ZERO', alpha_mid\n",
      "        break\n",
      "    #-------------------------------------------------------------\n",
      "    if (Lift_mid < 0) and (Lift_start > 0):\n",
      "        \n",
      "        alpha_end = alpha_mid\n",
      "    \n",
      "    if (Lift_mid > 0) and (Lift_start < 0):\n",
      "        \n",
      "        alpha_end = alpha_mid\n",
      "     \n",
      "    #-------------------------------------------------------------    \n",
      "    \n",
      "    if (Lift_mid >0) and (Lift_start>0):\n",
      "        \n",
      "        alpha_start = alpha_mid\n",
      "        \n",
      "    if (Lift_mid <0) and (Lift_start<0):\n",
      "        \n",
      "        alpha_start = alpha_mid\n",
      "\n",
      "        \n",
      "    "
     ],
     "language": "python",
     "metadata": {},
     "outputs": [
      {
       "output_type": "stream",
       "stream": "stdout",
       "text": [
        "alpha_start -14.0\n",
        "alpha_mid 0.0\n",
        "alpha_end 14.0\n",
        "Lift at mid"
       ]
      },
      {
       "output_type": "stream",
       "stream": "stdout",
       "text": [
        " 1.52018626053\n",
        "Lift at start -0.509541139129\n",
        "alpha_start -14.0\n",
        "alpha_mid -7.0\n",
        "alpha_end 0.0\n",
        "Lift at mid"
       ]
      },
      {
       "output_type": "stream",
       "stream": "stdout",
       "text": [
        " 0.548338462552\n",
        "Lift at start -0.45624916085\n",
        "alpha_start -14.0\n",
        "alpha_mid -10.5\n",
        "alpha_end -7.0\n",
        "Lift at mid"
       ]
      },
      {
       "output_type": "stream",
       "stream": "stdout",
       "text": [
        " 0.063498906204\n",
        "Lift at start -0.432688483939\n",
        "alpha_start -14.0\n",
        "alpha_mid -12.25\n",
        "alpha_end -10.5\n",
        "Lift at mid"
       ]
      },
      {
       "output_type": "stream",
       "stream": "stdout",
       "text": [
        " -0.175476948754\n",
        "Lift at start -0.421608968111\n",
        "alpha_start -12.25\n",
        "alpha_mid -11.375\n",
        "alpha_end -10.5\n",
        "Lift at mid"
       ]
      },
      {
       "output_type": "stream",
       "stream": "stdout",
       "text": [
        " -0.0563695467263\n",
        "Lift at start -0.180895755216\n",
        "alpha_start -11.375\n",
        "alpha_mid -10.9375\n",
        "alpha_end -10.5\n",
        "Lift at mid"
       ]
      },
      {
       "output_type": "stream",
       "stream": "stdout",
       "text": [
        " 0.00347652142468\n",
        "Lift at start -0.0591054153994\n",
        "alpha_start -11.375\n",
        "alpha_mid -11.15625\n",
        "alpha_end -10.9375\n",
        "Lift at mid"
       ]
      },
      {
       "output_type": "stream",
       "stream": "stdout",
       "text": [
        " -0.0264694255558\n",
        "Lift at start -0.0577337126923\n",
        "alpha_start -11.15625\n",
        "alpha_mid -11.046875\n",
        "alpha_end -10.9375\n",
        "Lift at mid"
       ]
      },
      {
       "output_type": "stream",
       "stream": "stdout",
       "text": [
        " -0.0115020712276\n",
        "Lift at start -0.0271532028088\n",
        "alpha_start -11.046875\n",
        "alpha_mid -10.9921875\n",
        "alpha_end -10.9375\n",
        "Lift at mid"
       ]
      },
      {
       "output_type": "stream",
       "stream": "stdout",
       "text": [
        " -0.00401416604987\n",
        "Lift at start -0.0118443877747\n",
        "alpha_start -10.9921875\n",
        "alpha_mid -10.96484375\n",
        "alpha_end -10.9375\n",
        "Lift at mid"
       ]
      },
      {
       "output_type": "stream",
       "stream": "stdout",
       "text": [
        " -0.000269168393888\n",
        "Lift at start -0.0041854318469\n",
        "ALPHA_LIFT_ZERO -10.96484375\n"
       ]
      }
     ],
     "prompt_number": 83
    },
    {
     "cell_type": "code",
     "collapsed": false,
     "input": [
      "print N, Nd"
     ],
     "language": "python",
     "metadata": {},
     "outputs": [
      {
       "output_type": "stream",
       "stream": "stdout",
       "text": [
        "150 300\n"
       ]
      }
     ],
     "prompt_number": 84
    },
    {
     "cell_type": "code",
     "collapsed": false,
     "input": [],
     "language": "python",
     "metadata": {},
     "outputs": [],
     "prompt_number": 84
    },
    {
     "cell_type": "heading",
     "level": 3,
     "metadata": {},
     "source": [
      "Bistection Method To find Flap Angle that will cause zero lift"
     ]
    },
    {
     "cell_type": "code",
     "collapsed": false,
     "input": [
      "flap_angle_end = 50.0\n",
      "flap_angle_start = -50.0\n",
      "\n",
      "while C <= Nmax:\n",
      "    \n",
      "    x_rot = 1.03\n",
      "    y_rot = -0.054\n",
      "    \n",
      "    flap_angle_mid = (flap_angle_end+flap_angle_start)/2\n",
      "    \n",
      "    print 'flap_angle_start', flap_angle_start\n",
      "    print 'flap_angle_mid', flap_angle_mid\n",
      "    print 'flap_angle_end', flap_angle_end\n",
      "    \n",
      "    #---------------------Determine Angle of rotation by using Flap angle----------------------------\n",
      "    # NOTE!______________There are 151 x_flap points and 151 y_flap points\n",
      "\n",
      "    a_rot_start = flap_angle_start *(math.pi/180.0)  # angle of rotation for flap_start\n",
      "    a_rot_mid = flap_angle_mid *(math.pi/180.0)  # angle of rotation for flap_end\n",
      "    \n",
      "    #--------------------Rotation Matrix---------------------------------------------------------------\n",
      "    R_start = numpy.zeros((2,2), dtype=float)\n",
      "    R_start = numpy.matrix( ((math.cos(a_rot_start),-math.sin(a_rot_start)), (math.sin(a_rot_start), math.cos(a_rot_start))) )\n",
      "    \n",
      "    R_mid = numpy.zeros((2,2), dtype=float)\n",
      "    R_mid = numpy.matrix( ((math.cos(a_rot_mid),-math.sin(a_rot_mid)), (math.sin(a_rot_mid), math.cos(a_rot_mid))) )\n",
      "    \n",
      "    #----------------------Obtain Rotated Flap-----------------------------------------------------------\n",
      "    R_inv_start = linalg.inv(R_start)\n",
      "    R_inv_mid = linalg.inv(R_mid)\n",
      "    \n",
      "    x_flap_r_start = numpy.empty((len(x_flap)), dtype=float)\n",
      "    y_flap_r_start = numpy.empty((len(y_flap)), dtype=float)\n",
      "    \n",
      "    x_flap_r_mid = numpy.empty((len(x_flap)), dtype=float)\n",
      "    y_flap_r_mid = numpy.empty((len(y_flap)), dtype=float)\n",
      "    \n",
      "    for i in xrange(len(x_flap)):\n",
      "    \n",
      "        a = numpy.vstack((x_flap[i]-x_rot,y_flap[i]-y_rot))\n",
      "        #a_mid = numpy.vstack((x_flap[i]-x_rot,y_flap[i]-y_rot))\n",
      "    \n",
      "        variables_start_f = linalg.solve(R_inv_start, a)\n",
      "        variables_mid_f = linalg.solve(R_inv_mid, a)\n",
      "    \n",
      "        x_flap_r_start[i] = variables_start_f[0]+x_rot\n",
      "        y_flap_r_start[i] = variables_start_f[1]+y_rot\n",
      "        \n",
      "        x_flap_r_mid[i] = variables_mid_f[0]+x_rot\n",
      "        y_flap_r_mid[i] = variables_mid_f[1]+y_rot\n",
      "    \n",
      "    #----------------------Discretize Geometries Into Panels-----------------------------------------------------------\n",
      "    \n",
      "    #panels_airfoil2 = define_panels(x_airfoil,y_airfoil, N_part2 )\n",
      "    \n",
      "    panels_flap2_start = define_panels(x_flap_r_start,y_flap_r_start, N_part2)\n",
      "    panels_flap2_mid = define_panels(x_flap_r_mid,y_flap_r_mid, N_part2)\n",
      "    \n",
      "    panels_all2_start = numpy.concatenate((panels_airfoil2, panels_flap2_start))\n",
      "    panels_all2_mid = numpy.concatenate((panels_airfoil2, panels_flap2_mid))\n",
      "    \n",
      "    #-----------------------Begin Building the systems of equations---------------------------------------------------\n",
      "    \n",
      "    #Freestream------------------------------------------------------------------------------------------------------------\n",
      "    \n",
      "    alpha = 0.0\n",
      "    freestream = Freestream(u_inf, alpha) \n",
      "    \n",
      "    b_start = build_rhs(panels_all2_start, freestream)\n",
      "    b_mid = build_rhs(panels_all2_mid, freestream)\n",
      "    \n",
      "    #Normal source/vortex matrices---------------------------------------------------------------------\n",
      "     \n",
      "    source_matrix_n2_start = source_matrix(panels_all2_start)\n",
      "    source_matrix_n2_mid = source_matrix(panels_all2_mid)\n",
      "    \n",
      "    vortex_matrix_n2_start = vortex_matrix_norm(panels_all2_start)\n",
      "    vortex_matrix_n2_mid = vortex_matrix_norm(panels_all2_mid)\n",
      "    \n",
      "    #Normal vortex arrays---------------------------------------------------------------------------\n",
      "     \n",
      "    B_gA_n2_start, B_gB_n2_start = vortex_arrays_n(panels_all2_start, vortex_matrix_n2_start) \n",
      "    B_gA_n2_mid, B_gB_n2_mid = vortex_arrays_n(panels_all2_mid, vortex_matrix_n2_mid) \n",
      "    \n",
      "    # Build the Normal matrix-----------------------------------------------------------------------------\n",
      "    \n",
      "    Nd = 2*N_part2\n",
      "    \n",
      "    AB_conc_n2_start = numpy.empty((panels_all2_start.size, panels_all2_start.size+2), dtype=float)\n",
      "    AB_conc_n2_mid = numpy.empty((panels_all2_mid.size, panels_all2_mid.size+2), dtype=float)\n",
      "\n",
      "    AB_conc_n2_start[0:Nd,0:Nd] = source_matrix_n2_start[:,:]\n",
      "    AB_conc_n2_mid[0:Nd,0:Nd] = source_matrix_n2_mid[:,:]\n",
      "    \n",
      "    AB_conc_n2_start[0:Nd,-2] = B_gA_n2_start[:]\n",
      "    AB_conc_n2_mid[0:Nd,-2] = B_gA_n2_mid[:]\n",
      "    \n",
      "    AB_conc_n2_start[0:Nd,-1] = B_gB_n2_start[:]\n",
      "    AB_conc_n2_mid[0:Nd,-1] = B_gB_n2_mid[:]\n",
      "    \n",
      "    # Tangential vortex arrays---------------------------------------------------------------------\n",
      "    \n",
      "    B_gA_t2_start, B_gB_t2_start = vortex_arrays_t(panels_all2_start, source_matrix_n2_start) \n",
      "    B_gA_t2_mid, B_gB_t2_mid = vortex_arrays_t(panels_all2_mid, source_matrix_n2_mid)\n",
      "    \n",
      "    source_matrix_t2_start = numpy.zeros((panels_all2_start.size, panels_all2_start.size), dtype=float)  \n",
      "    source_matrix_t2_start[:,:] = vortex_matrix_n2_start[:,:]\n",
      "    \n",
      "    source_matrix_t2_mid = numpy.zeros((panels_all2_mid.size, panels_all2_mid.size), dtype=float)  \n",
      "    source_matrix_t2_mid[:,:] = vortex_matrix_n2_mid[:,:]\n",
      "    \n",
      "    #Build the Tangential Matrix----------------------------------------------------------------------\n",
      "    AB_conc_t2_start = numpy.empty((panels_all2_start.size, panels_all2_start.size+2), dtype=float)\n",
      "\n",
      "    AB_conc_t2_start[0:Nd,0:Nd] = source_matrix_t2_start[:,:]\n",
      "    AB_conc_t2_start[0:Nd,-2] = -B_gA_t2_start[:]\n",
      "    AB_conc_t2_start[0:Nd,-1] = -B_gB_t2_start[:]\n",
      "    \n",
      "    AB_conc_t2_mid = numpy.empty((panels_all2_mid.size, panels_all2_mid.size+2), dtype=float)\n",
      "\n",
      "    AB_conc_t2_mid[0:Nd,0:Nd] = source_matrix_t2_mid[:,:]\n",
      "    AB_conc_t2_mid[0:Nd,-2] = -B_gA_t2_mid[:]\n",
      "    AB_conc_t2_mid[0:Nd,-1] = -B_gB_t2_mid[:]\n",
      "    \n",
      "    #Kutta Conditions------------------------------------------------------------------------\n",
      "    kc1_start = numpy.zeros(panels_all2_start.size+2, dtype=float) \n",
      "    kc2_start = numpy.zeros(panels_all2_start.size+2, dtype=float)\n",
      "\n",
      "    kc1_start = AB_conc_t2_start[0,:] + AB_conc_t2_start[N-1,:]\n",
      "    kc2_start = AB_conc_t2_start[N,:] + AB_conc_t2_start[Nd-1,:]\n",
      "    \n",
      "    kc1_mid = numpy.zeros(panels_all2_mid.size+2, dtype=float) \n",
      "    kc2_mid = numpy.zeros(panels_all2_mid.size+2, dtype=float)\n",
      "\n",
      "    kc1_mid = AB_conc_t2_mid[0,:] + AB_conc_t2_mid[N-1,:]\n",
      "    kc2_mid = AB_conc_t2_mid[N,:] + AB_conc_t2_mid[Nd-1,:]\n",
      "    \n",
      "    #Solve Linear System ------------------------------------------------------------------------\n",
      "   \n",
      "    A_start = build_matrix(panels_all2_start, AB_conc_n2_start, kc1_start, kc2_start)\n",
      "    A_mid = build_matrix(panels_all2_mid, AB_conc_n2_mid, kc1_mid, kc2_mid)\n",
      "    \n",
      "    variables_start = numpy.linalg.solve(A_start, b_start)\n",
      "    variables_mid = numpy.linalg.solve(A_mid, b_mid)\n",
      "\n",
      "    for i, panel in enumerate(panels_all2_start):\n",
      "        panel.sigma = variables_start[i]\n",
      "    \n",
      "    for i, panel in enumerate(panels_all2_mid):\n",
      "        panel.sigma = variables_mid[i]\n",
      "\n",
      "    gamma_A_start = variables_start[-2]\n",
      "    gamma_B_start = variables_start[-1]\n",
      "    \n",
      "    gamma_A_mid = variables_mid[-2]\n",
      "    gamma_B_mid = variables_mid[-1]\n",
      "    \n",
      "    # Get Velocities and Pressure and Lift-----------------------------\n",
      "    \n",
      "    get_tangential_velocity(panels_all2_start, freestream, gamma_A_start, gamma_B_start, AB_conc_t2_start)\n",
      "    get_pressure_coefficient(panels_all2_start, freestream)\n",
      "    \n",
      "    Lift_start, Drag_start = get_drag_and_lift(panels_all2_start)\n",
      "    \n",
      "    get_tangential_velocity(panels_all2_mid, freestream, gamma_A_mid, gamma_B_mid, AB_conc_t2_mid)\n",
      "    get_pressure_coefficient(panels_all2_mid, freestream)\n",
      "   \n",
      "    Lift_mid, Drag_mid = get_drag_and_lift(panels_all2_mid)\n",
      "    \n",
      "    #----Check Values---------------------------------------------------------\n",
      "    \n",
      "    print 'Lift at mid', Lift_mid\n",
      "    print 'Lift at start', Lift_start\n",
      "    \n",
      "    if (Lift_mid <= TOL) and (Lift_mid >= 0):\n",
      "        print 'FLAP_ANGLE_LIFT_ZERO', flap_angle_mid\n",
      "        break\n",
      "    \n",
      "    if (Lift_mid >= -TOL) and (Lift_mid <= 0):\n",
      "        print 'FLAP_ANGLE_LIFT_ZERO', flap_angle_mid\n",
      "        break\n",
      "    #-------------------------------------------------------------\n",
      "    if (Lift_mid < 0) and (Lift_start > 0):\n",
      "        \n",
      "        flap_angle_end = flap_angle_mid\n",
      "    \n",
      "    if (Lift_mid > 0) and (Lift_start < 0):\n",
      "        \n",
      "        flap_angle_end = flap_angle_mid\n",
      "     \n",
      "    #-------------------------------------------------------------    \n",
      "    \n",
      "    if (Lift_mid >0) and (Lift_start>0):\n",
      "        \n",
      "        flap_angle_start = flap_angle_mid\n",
      "        \n",
      "    if (Lift_mid <0) and (Lift_start<0):\n",
      "        \n",
      "        flap_angle_start = flap_angle_mid\n"
     ],
     "language": "python",
     "metadata": {},
     "outputs": [
      {
       "output_type": "stream",
       "stream": "stdout",
       "text": [
        "flap_angle_start -50.0\n",
        "flap_angle_mid 0.0\n",
        "flap_angle_end 50.0\n",
        "Lift at mid"
       ]
      },
      {
       "output_type": "stream",
       "stream": "stdout",
       "text": [
        " 0.271910644469\n",
        "Lift at start 3.37824029692\n",
        "flap_angle_start 0.0\n",
        "flap_angle_mid 25.0\n",
        "flap_angle_end 50.0\n",
        "Lift at mid"
       ]
      },
      {
       "output_type": "stream",
       "stream": "stdout",
       "text": [
        " -1.18403000116\n",
        "Lift at start 0.302948214362\n",
        "flap_angle_start 0.0\n",
        "flap_angle_mid 12.5\n",
        "flap_angle_end 25.0\n",
        "Lift at mid"
       ]
      },
      {
       "output_type": "stream",
       "stream": "stdout",
       "text": [
        " -0.472137258025\n",
        "Lift at start 0.28894227376\n",
        "flap_angle_start 0.0\n",
        "flap_angle_mid 6.25\n",
        "flap_angle_end 12.5\n",
        "Lift at mid"
       ]
      },
      {
       "output_type": "stream",
       "stream": "stdout",
       "text": [
        " -0.103852962472\n",
        "Lift at start 0.280848056214\n",
        "flap_angle_start 0.0\n",
        "flap_angle_mid 3.125\n",
        "flap_angle_end 6.25\n",
        "Lift at mid"
       ]
      },
      {
       "output_type": "stream",
       "stream": "stdout",
       "text": [
        " 0.0831198297022\n",
        "Lift at start 0.276489542878\n",
        "flap_angle_start 3.125\n",
        "flap_angle_mid 4.6875\n",
        "flap_angle_end 6.25\n",
        "Lift at mid"
       ]
      },
      {
       "output_type": "stream",
       "stream": "stdout",
       "text": [
        " -0.0105966660811\n",
        "Lift at start 0.0853363046943\n",
        "flap_angle_start 3.125\n",
        "flap_angle_mid 3.90625\n",
        "flap_angle_end 4.6875\n",
        "Lift at mid"
       ]
      },
      {
       "output_type": "stream",
       "stream": "stdout",
       "text": [
        " 0.036204435335\n",
        "Lift at start 0.0842348662148\n",
        "flap_angle_start 3.90625\n",
        "flap_angle_mid 4.296875\n",
        "flap_angle_end 4.6875\n",
        "Lift at mid"
       ]
      },
      {
       "output_type": "stream",
       "stream": "stdout",
       "text": [
        " 0.0127895521977\n",
        "Lift at start 0.0367580134631\n",
        "flap_angle_start 4.296875\n",
        "flap_angle_mid 4.4921875\n",
        "flap_angle_end 4.6875\n",
        "Lift at mid"
       ]
      },
      {
       "output_type": "stream",
       "stream": "stdout",
       "text": [
        " 0.0010928540962\n",
        "Lift at start 0.0130654027198\n",
        "flap_angle_start 4.4921875\n",
        "flap_angle_mid 4.58984375\n",
        "flap_angle_end 4.6875\n",
        "Lift at mid"
       ]
      },
      {
       "output_type": "stream",
       "stream": "stdout",
       "text": [
        " -0.00475280397294\n",
        "Lift at start 0.00123055043491\n",
        "flap_angle_start 4.4921875\n",
        "flap_angle_mid 4.541015625\n",
        "flap_angle_end 4.58984375\n",
        "Lift at mid"
       ]
      },
      {
       "output_type": "stream",
       "stream": "stdout",
       "text": [
        " -0.00183019934065\n",
        "Lift at start 0.00116172854275\n",
        "flap_angle_start 4.4921875\n",
        "flap_angle_mid 4.5166015625\n",
        "flap_angle_end 4.541015625\n",
        "Lift at mid"
       ]
      },
      {
       "output_type": "stream",
       "stream": "stdout",
       "text": [
        " -0.00036872871123\n",
        "Lift at start 0.00112729789075\n",
        "FLAP_ANGLE_LIFT_ZERO 4.5166015625\n"
       ]
      }
     ],
     "prompt_number": 85
    },
    {
     "cell_type": "code",
     "collapsed": false,
     "input": [
      "\n",
      "\n",
      "flap_angle_0 = 0.0\n",
      "flap_angle_5 = -5.0\n",
      "flap_angle_10 = -10.0\n",
      "flap_angle_15 = -15.0\n",
      "\n",
      "\n",
      "#---------------------Determine Angle of rotation by using Flap angle----------------------------\n",
      "\n",
      "\n",
      "a_rot_0 = flap_angle_0 *(math.pi/180.0)  \n",
      "a_rot_5 = flap_angle_5 *(math.pi/180.0)\n",
      "a_rot_10 = flap_angle_10 *(math.pi/180.0)\n",
      "a_rot_15 = flap_angle_15 *(math.pi/180.0)\n",
      "\n",
      "#--------------------Rotation Matrix---------------------------------------------------------------\n",
      "R_0 = numpy.zeros((2,2), dtype=float)\n",
      "R_0 = numpy.matrix( ((math.cos(a_rot_0),-math.sin(a_rot_0)), (math.sin(a_rot_0), math.cos(a_rot_0))) )\n",
      "\n",
      "R_5 = numpy.zeros((2,2), dtype=float)\n",
      "R_5 = numpy.matrix( ((math.cos(a_rot_5),-math.sin(a_rot_5)), (math.sin(a_rot_5), math.cos(a_rot_5))) )\n",
      "\n",
      "R_10 = numpy.zeros((2,2), dtype=float)\n",
      "R_10 = numpy.matrix( ((math.cos(a_rot_10),-math.sin(a_rot_10)), (math.sin(a_rot_10), math.cos(a_rot_10))) )\n",
      "\n",
      "R_15 = numpy.zeros((2,2), dtype=float)\n",
      "R_15 = numpy.matrix( ((math.cos(a_rot_15),-math.sin(a_rot_15)), (math.sin(a_rot_15), math.cos(a_rot_15))) )\n",
      "\n",
      "#----------------------Obtain Rotated Flap-----------------------------------------------------------\n",
      "R_inv_0 = linalg.inv(R_0)\n",
      "R_inv_5 = linalg.inv(R_5)\n",
      "R_inv_10 = linalg.inv(R_10)\n",
      "R_inv_15 = linalg.inv(R_15)\n",
      "\n",
      "x_flap_r_0 = numpy.empty((len(x_flap)), dtype=float)\n",
      "y_flap_r_0 = numpy.empty((len(y_flap)), dtype=float)\n",
      "\n",
      "x_flap_r_5 = numpy.empty((len(x_flap)), dtype=float)\n",
      "y_flap_r_5 = numpy.empty((len(y_flap)), dtype=float)\n",
      "\n",
      "x_flap_r_10 = numpy.empty((len(x_flap)), dtype=float)\n",
      "y_flap_r_10 = numpy.empty((len(y_flap)), dtype=float)\n",
      "\n",
      "x_flap_r_15 = numpy.empty((len(x_flap)), dtype=float)\n",
      "y_flap_r_15 = numpy.empty((len(y_flap)), dtype=float)\n",
      "\n",
      "for i in xrange(len(x_flap)):\n",
      "\n",
      "    a = numpy.vstack((x_flap[i]-x_rot,y_flap[i]-y_rot))\n",
      "\n",
      "    variables_0_f = linalg.solve(R_inv_0, a)\n",
      "    variables_5_f = linalg.solve(R_inv_5, a)\n",
      "    variables_10_f = linalg.solve(R_inv_10, a)\n",
      "    variables_15_f = linalg.solve(R_inv_15, a)\n",
      "    \n",
      "    x_flap_r_0[i] = variables_0_f[0]+x_rot\n",
      "    y_flap_r_0[i] = variables_0_f[1]+y_rot\n",
      "    \n",
      "    x_flap_r_5[i] = variables_5_f[0]+x_rot\n",
      "    y_flap_r_5[i] = variables_5_f[1]+y_rot\n",
      "\n",
      "    x_flap_r_10[i] = variables_10_f[0]+x_rot\n",
      "    y_flap_r_10[i] = variables_10_f[1]+y_rot\n",
      "    \n",
      "    x_flap_r_15[i] = variables_15_f[0]+x_rot\n",
      "    y_flap_r_15[i] = variables_15_f[1]+y_rot\n",
      "\n",
      "#----------------------Discretize Geometries Into Panels-----------------------------------------------------------\n",
      "\n",
      "panels_flap2_0 = define_panels(x_flap_r_0,y_flap_r_0, N_part2)\n",
      "panels_flap2_5 = define_panels(x_flap_r_5,y_flap_r_5, N_part2)\n",
      "panels_flap2_10 = define_panels(x_flap_r_10,y_flap_r_10, N_part2)\n",
      "panels_flap2_15 = define_panels(x_flap_r_15,y_flap_r_15, N_part2)\n",
      "\n",
      "panels_all2_0 = numpy.concatenate((panels_airfoil2, panels_flap2_0))\n",
      "panels_all2_5 = numpy.concatenate((panels_airfoil2, panels_flap2_5))\n",
      "panels_all2_10 = numpy.concatenate((panels_airfoil2, panels_flap2_10))\n",
      "panels_all2_15 = numpy.concatenate((panels_airfoil2, panels_flap2_15))\n",
      "\n",
      "\n",
      "\n",
      "#-----------------------Begin Building the systems of equations---------------------------------------------------\n",
      "\n",
      "#Freestream------------------------------------------------------------------------------------------------------------\n",
      "\n",
      "alpha = 4.0\n",
      "u_inf = 1.0\n",
      "freestream = Freestream(u_inf, alpha) \n",
      "\n",
      "b0 = build_rhs(panels_all2_0, freestream)\n",
      "b5 = build_rhs(panels_all2_5, freestream)\n",
      "b10 = build_rhs(panels_all2_10, freestream)\n",
      "b15 = build_rhs(panels_all2_15, freestream)\n",
      "\n",
      "#Normal source/vortex matrices---------------------------------------------------------------------\n",
      "\n",
      "source_matrix_n2_0 = source_matrix(panels_all2_0)\n",
      "source_matrix_n2_5 = source_matrix(panels_all2_5)\n",
      "source_matrix_n2_10 = source_matrix(panels_all2_10)\n",
      "source_matrix_n2_15 = source_matrix(panels_all2_15)\n",
      "\n",
      "vortex_matrix_n2_0 = vortex_matrix_norm(panels_all2_0)\n",
      "vortex_matrix_n2_5 = vortex_matrix_norm(panels_all2_5)\n",
      "vortex_matrix_n2_10 = vortex_matrix_norm(panels_all2_10)\n",
      "vortex_matrix_n2_15 = vortex_matrix_norm(panels_all2_15)\n",
      "\n",
      "#Normal vortex arrays---------------------------------------------------------------------------\n",
      "\n",
      "B_gA_n2_0, B_gB_n2_0 = vortex_arrays_n(panels_all2_0, vortex_matrix_n2_0) \n",
      "B_gA_n2_5, B_gB_n2_5 = vortex_arrays_n(panels_all2_5, vortex_matrix_n2_5) \n",
      "B_gA_n2_10, B_gB_n2_10 = vortex_arrays_n(panels_all2_10, vortex_matrix_n2_10) \n",
      "B_gA_n2_15, B_gB_n2_15 = vortex_arrays_n(panels_all2_15, vortex_matrix_n2_15)\n",
      "\n",
      "# Build the Normal matrix-----------------------------------------------------------------------------\n",
      "\n",
      "Nd = 2*N_part2\n",
      "\n",
      "AB_conc_n2_0 = numpy.empty((panels_all2_0.size, panels_all2_0.size+2), dtype=float)\n",
      "AB_conc_n2_5 = numpy.empty((panels_all2_5.size, panels_all2_5.size+2), dtype=float)\n",
      "AB_conc_n2_10 = numpy.empty((panels_all2_10.size, panels_all2_10.size+2), dtype=float)\n",
      "AB_conc_n2_15 = numpy.empty((panels_all2_15.size, panels_all2_15.size+2), dtype=float)\n",
      "\n",
      "\n",
      "AB_conc_n2_0[0:Nd,0:Nd] = source_matrix_n2_0[:,:]\n",
      "AB_conc_n2_5[0:Nd,0:Nd] = source_matrix_n2_5[:,:]\n",
      "AB_conc_n2_10[0:Nd,0:Nd] = source_matrix_n2_10[:,:]\n",
      "AB_conc_n2_15[0:Nd,0:Nd] = source_matrix_n2_15[:,:]\n",
      "\n",
      "AB_conc_n2_0[0:Nd,-2] = B_gA_n2_0[:]\n",
      "AB_conc_n2_5[0:Nd,-2] = B_gA_n2_5[:]\n",
      "AB_conc_n2_10[0:Nd,-2] = B_gA_n2_10[:]\n",
      "AB_conc_n2_15[0:Nd,-2] = B_gA_n2_15[:]\n",
      "\n",
      "AB_conc_n2_0[0:Nd,-1] = B_gB_n2_0[:]\n",
      "AB_conc_n2_5[0:Nd,-1] = B_gB_n2_5[:]\n",
      "AB_conc_n2_10[0:Nd,-1] = B_gB_n2_10[:]\n",
      "AB_conc_n2_15[0:Nd,-1] = B_gB_n2_15[:]\n",
      "\n",
      "# Tangential vortex arrays---------------------------------------------------------------------\n",
      "\n",
      "B_gA_t2_0, B_gB_t2_0 = vortex_arrays_t(panels_all2_0, source_matrix_n2_0) \n",
      "B_gA_t2_5, B_gB_t2_5 = vortex_arrays_t(panels_all2_5, source_matrix_n2_5)\n",
      "B_gA_t2_10, B_gB_t2_10 = vortex_arrays_t(panels_all2_10, source_matrix_n2_10) \n",
      "B_gA_t2_15, B_gB_t2_15 = vortex_arrays_t(panels_all2_15, source_matrix_n2_15)\n",
      "\n",
      "source_matrix_t2_0 = numpy.zeros((panels_all2_0.size, panels_all2_0.size), dtype=float)  \n",
      "source_matrix_t2_0[:,:] = vortex_matrix_n2_0[:,:]\n",
      "\n",
      "source_matrix_t2_5 = numpy.zeros((panels_all2_5.size, panels_all2_5.size), dtype=float)  \n",
      "source_matrix_t2_5[:,:] = vortex_matrix_n2_5[:,:]\n",
      "\n",
      "source_matrix_t2_10 = numpy.zeros((panels_all2_10.size, panels_all2_10.size), dtype=float)  \n",
      "source_matrix_t2_10[:,:] = vortex_matrix_n2_10[:,:]\n",
      "\n",
      "source_matrix_t2_15 = numpy.zeros((panels_all2_15.size, panels_all2_15.size), dtype=float)  \n",
      "source_matrix_t2_15[:,:] = vortex_matrix_n2_15[:,:]\n",
      "\n",
      "#Build the Tangential Matrix----------------------------------------------------------------------\n",
      "AB_conc_t2_0 = numpy.empty((panels_all2_0.size, panels_all2_0.size+2), dtype=float)\n",
      "\n",
      "AB_conc_t2_0[0:Nd,0:Nd] = source_matrix_t2_0[:,:]\n",
      "AB_conc_t2_0[0:Nd,-2] = -B_gA_t2_0[:]\n",
      "AB_conc_t2_0[0:Nd,-1] = -B_gB_t2_0[:]\n",
      "\n",
      "AB_conc_t2_5 = numpy.empty((panels_all2_5.size, panels_all2_5.size+2), dtype=float)\n",
      "\n",
      "AB_conc_t2_5[0:Nd,0:Nd] = source_matrix_t2_5[:,:]\n",
      "AB_conc_t2_5[0:Nd,-2] = -B_gA_t2_5[:]\n",
      "AB_conc_t2_5[0:Nd,-1] = -B_gB_t2_5[:]\n",
      "\n",
      "AB_conc_t2_10 = numpy.empty((panels_all2_10.size, panels_all2_10.size+2), dtype=float)\n",
      "\n",
      "AB_conc_t2_10[0:Nd,0:Nd] = source_matrix_t2_10[:,:]\n",
      "AB_conc_t2_10[0:Nd,-2] = -B_gA_t2_10[:]\n",
      "AB_conc_t2_10[0:Nd,-1] = -B_gB_t2_10[:]\n",
      "\n",
      "AB_conc_t2_15 = numpy.empty((panels_all2_15.size, panels_all2_15.size+2), dtype=float)\n",
      "\n",
      "AB_conc_t2_15[0:Nd,0:Nd] = source_matrix_t2_15[:,:]\n",
      "AB_conc_t2_15[0:Nd,-2] = -B_gA_t2_15[:]\n",
      "AB_conc_t2_15[0:Nd,-1] = -B_gB_t2_15[:]\n",
      "\n",
      "\n",
      "#Kutta Conditions------------------------------------------------------------------------\n",
      "kc1_0 = numpy.zeros(panels_all2_0.size+2, dtype=float) \n",
      "kc2_0 = numpy.zeros(panels_all2_0.size+2, dtype=float)\n",
      "\n",
      "kc1_0 = AB_conc_t2_0[0,:] + AB_conc_t2_0[N-1,:]\n",
      "kc2_0 = AB_conc_t2_0[N,:] + AB_conc_t2_0[Nd-1,:]\n",
      "\n",
      "kc1_5 = numpy.zeros(panels_all2_5.size+2, dtype=float) \n",
      "kc2_5 = numpy.zeros(panels_all2_5.size+2, dtype=float)\n",
      "\n",
      "kc1_5 = AB_conc_t2_5[0,:] + AB_conc_t2_5[N-1,:]\n",
      "kc2_5 = AB_conc_t2_5[N,:] + AB_conc_t2_5[Nd-1,:]\n",
      "\n",
      "kc1_10 = numpy.zeros(panels_all2_10.size+2, dtype=float) \n",
      "kc2_10 = numpy.zeros(panels_all2_10.size+2, dtype=float)\n",
      "\n",
      "kc1_10 = AB_conc_t2_10[0,:] + AB_conc_t2_10[N-1,:]\n",
      "kc2_10 = AB_conc_t2_10[N,:] + AB_conc_t2_10[Nd-1,:]\n",
      "\n",
      "kc1_15 = numpy.zeros(panels_all2_15.size+2, dtype=float) \n",
      "kc2_15 = numpy.zeros(panels_all2_15.size+2, dtype=float)\n",
      "\n",
      "kc1_15 = AB_conc_t2_15[0,:] + AB_conc_t2_15[N-1,:]\n",
      "kc2_15 = AB_conc_t2_15[N,:] + AB_conc_t2_15[Nd-1,:]\n",
      "\n",
      "#Solve Linear System ------------------------------------------------------------------------\n",
      "\n",
      "A0 = build_matrix(panels_all2_0, AB_conc_n2_0, kc1_0, kc2_0)\n",
      "A5 = build_matrix(panels_all2_5, AB_conc_n2_5, kc1_5, kc2_5)\n",
      "A10 = build_matrix(panels_all2_10, AB_conc_n2_10, kc1_10, kc2_10)\n",
      "A15 = build_matrix(panels_all2_15, AB_conc_n2_15, kc1_5, kc2_15)\n",
      "\n",
      "variables0 = numpy.linalg.solve(A0, b0)\n",
      "variables5 = numpy.linalg.solve(A5, b5)\n",
      "variables10 = numpy.linalg.solve(A10, b10)\n",
      "variables15 = numpy.linalg.solve(A15, b15)\n",
      "\n",
      "for i, panel in enumerate(panels_all2_0):\n",
      "    panel.sigma = variables0[i]\n",
      "\n",
      "for i, panel in enumerate(panels_all2_5):\n",
      "    panel.sigma = variables5[i]\n",
      "    \n",
      "for i, panel in enumerate(panels_all2_10):\n",
      "    panel.sigma = variables10[i]\n",
      "    \n",
      "for i, panel in enumerate(panels_all2_15):\n",
      "    panel.sigma = variables15[i]\n",
      "\n",
      "gamma_A0 = variables0[-2]\n",
      "gamma_B0 = variables0[-1]\n",
      "\n",
      "gamma_A5 = variables5[-2]\n",
      "gamma_B5 = variables5[-1]\n",
      "\n",
      "gamma_A10 = variables10[-2]\n",
      "gamma_B10 = variables10[-1]\n",
      "\n",
      "gamma_A15 = variables15[-2]\n",
      "gamma_B15 = variables15[-1]\n",
      "\n",
      "# Get Velocities and Pressure and Lift-----------------------------\n",
      "\n",
      "get_tangential_velocity(panels_all2_0, freestream, gamma_A0, gamma_B0, AB_conc_t2_0)\n",
      "get_pressure_coefficient(panels_all2_0, freestream)\n",
      "\n",
      "Lift0, Drag0 = get_drag_and_lift(panels_all2_0)\n",
      "\n",
      "get_tangential_velocity(panels_all2_5, freestream, gamma_A5, gamma_B5, AB_conc_t2_5)\n",
      "get_pressure_coefficient(panels_all2_5, freestream)\n",
      "\n",
      "Lift5, Drag5 = get_drag_and_lift(panels_all2_5)\n",
      "\n",
      "get_tangential_velocity(panels_all2_10, freestream, gamma_A10, gamma_B10, AB_conc_t2_10)\n",
      "get_pressure_coefficient(panels_all2_10, freestream)\n",
      "\n",
      "Lift10, Drag10 = get_drag_and_lift(panels_all2_10)\n",
      "\n",
      "get_tangential_velocity(panels_all2_15, freestream, gamma_A15, gamma_B15, AB_conc_t2_15)\n",
      "get_pressure_coefficient(panels_all2_15, freestream)\n",
      "\n",
      "Lift15, Drag15 = get_drag_and_lift(panels_all2_15)\n",
      "\n",
      "#----Check Values---------------------------------------------------------\n",
      "\n",
      "print 'Lift for zero degree flap: ', Lift0\n",
      "print 'Lift for five degree flap: ', Lift5\n",
      "print 'Lift for ten degree flap: ', Lift10\n",
      "print 'Lift for fifteen degree flap: ', Lift15\n"
     ],
     "language": "python",
     "metadata": {},
     "outputs": [
      {
       "output_type": "stream",
       "stream": "stdout",
       "text": [
        "Lift for zero degree flap:  0.797252840974\n",
        "Lift for five degree flap:  1.10928088752\n",
        "Lift for ten degree flap:  1.42541085408\n",
        "Lift for fifteen degree flap:  1.74535524781\n"
       ]
      }
     ],
     "prompt_number": 94
    },
    {
     "cell_type": "code",
     "collapsed": false,
     "input": [
      "rate1 = (1. - numpy.sqrt(Lift0/Lift5))*100\n",
      "rate2 = (1. - numpy.sqrt(Lift0/Lift10))*100 \n",
      "rate3 = (1. - numpy.sqrt(Lift0/Lift15))*100 "
     ],
     "language": "python",
     "metadata": {},
     "outputs": [],
     "prompt_number": 97
    },
    {
     "cell_type": "code",
     "collapsed": false,
     "input": [
      "print rate1, rate2, rate3"
     ],
     "language": "python",
     "metadata": {},
     "outputs": [
      {
       "output_type": "stream",
       "stream": "stdout",
       "text": [
        "15.2231506123 25.2126737276 32.4140971553\n"
       ]
      }
     ],
     "prompt_number": 99
    },
    {
     "cell_type": "raw",
     "metadata": {},
     "source": [
      "I'm off 1% for rate2 and rate3. I may have to more carefully define functions to avoid possible mistakes"
     ]
    }
   ],
   "metadata": {}
  }
 ]
}